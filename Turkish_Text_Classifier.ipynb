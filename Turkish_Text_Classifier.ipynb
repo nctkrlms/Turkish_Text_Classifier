{
  "nbformat": 4,
  "nbformat_minor": 0,
  "metadata": {
    "colab": {
      "provenance": [],
      "collapsed_sections": [],
      "mount_file_id": "11vlJzbPbwF4Ag2rLB1W4z3wldQrXx_C7",
      "authorship_tag": "ABX9TyP2krTQIBA2lzwDhGaxKxIu",
      "include_colab_link": true
    },
    "kernelspec": {
      "name": "python3",
      "display_name": "Python 3"
    },
    "language_info": {
      "name": "python"
    }
  },
  "cells": [
    {
      "cell_type": "markdown",
      "metadata": {
        "id": "view-in-github",
        "colab_type": "text"
      },
      "source": [
        "<a href=\"https://colab.research.google.com/github/nctkrlms/Turkish_Text_Classifier/blob/main/Turkish_Text_Classifier.ipynb\" target=\"_parent\"><img src=\"https://colab.research.google.com/assets/colab-badge.svg\" alt=\"Open In Colab\"/></a>"
      ]
    },
    {
      "cell_type": "code",
      "execution_count": null,
      "metadata": {
        "colab": {
          "base_uri": "https://localhost:8080/"
        },
        "id": "AHyNZWpW9MkY",
        "outputId": "46ced5bd-2163-4795-eeda-79a583d9d970"
      },
      "outputs": [
        {
          "output_type": "stream",
          "name": "stderr",
          "text": [
            "[nltk_data] Downloading package stopwords to /root/nltk_data...\n",
            "[nltk_data]   Unzipping corpora/stopwords.zip.\n",
            "[nltk_data] Downloading package punkt to /root/nltk_data...\n",
            "[nltk_data]   Unzipping tokenizers/punkt.zip.\n",
            "[nltk_data] Downloading package omw-1.4 to /root/nltk_data...\n",
            "[nltk_data] Downloading package wordnet to /root/nltk_data...\n"
          ]
        }
      ],
      "source": [
        "import numpy as np\n",
        "import pandas as pd \n",
        "import re \n",
        "import nltk \n",
        "nltk.download(\"stopwords\")\n",
        "nltk.download('punkt')\n",
        "nltk.download('omw-1.4')\n",
        "from nltk import word_tokenize,sent_tokenize\n",
        "nltk.download('wordnet')\n",
        "import nltk as nlp\n",
        "from tensorflow.keras.preprocessing.text import Tokenizer\n",
        "from tensorflow.keras.preprocessing.sequence import pad_sequences \n",
        "from sklearn.feature_extraction.text import CountVectorizer \n",
        "from wordcloud import WordCloud \n",
        "import matplotlib.pyplot as plt\n",
        "from sklearn.model_selection import train_test_split\n",
        "from sklearn.metrics import confusion_matrix,accuracy_score,classification_report,precision_score\n",
        "from sklearn.metrics import confusion_matrix, ConfusionMatrixDisplay\n",
        "import warnings\n",
        "warnings.filterwarnings(\"ignore\")\n",
        "\n"
      ]
    },
    {
      "cell_type": "code",
      "source": [
        "from google.colab import drive\n",
        "drive.mount('/content/drive')"
      ],
      "metadata": {
        "colab": {
          "base_uri": "https://localhost:8080/"
        },
        "id": "oLAt-TWaFqkh",
        "outputId": "00ab9629-7bed-43a7-f0d6-c9e7ae53fd9a"
      },
      "execution_count": null,
      "outputs": [
        {
          "output_type": "stream",
          "name": "stdout",
          "text": [
            "Drive already mounted at /content/drive; to attempt to forcibly remount, call drive.mount(\"/content/drive\", force_remount=True).\n"
          ]
        }
      ]
    },
    {
      "cell_type": "code",
      "source": [
        "!unzip -q /content/drive/MyDrive/archive.zip -d ../\n"
      ],
      "metadata": {
        "id": "j8MwJC9AF7bI"
      },
      "execution_count": null,
      "outputs": []
    },
    {
      "cell_type": "markdown",
      "source": [
        "TTC_4900 VERİSETİ BURDA UNZIP EDİLİP PROJEDE KULLANILMAK ÜZERE YÜKLENMİŞTİR. VERİ SETİNİN İLK 5 VERİSİ GÖSTERİLMİŞTİR.\n"
      ],
      "metadata": {
        "id": "RH8i_26N4AOQ"
      }
    },
    {
      "cell_type": "code",
      "source": [
        "\n",
        "\n",
        "df=pd.read_csv(\"/content/drive/MyDrive/7allV03.csv\")\n",
        "df_copy=df.copy()\n",
        "df_copy.head()\n"
      ],
      "metadata": {
        "id": "xaCwFNndDTTK",
        "colab": {
          "base_uri": "https://localhost:8080/",
          "height": 206
        },
        "outputId": "1197e51f-7f0a-4805-95bb-40c59e02acc4"
      },
      "execution_count": null,
      "outputs": [
        {
          "output_type": "execute_result",
          "data": {
            "text/plain": [
              "   category                                               text\n",
              "0  siyaset    3 milyon ile ön seçim vaadi mhp nin 10 olağan...\n",
              "1  siyaset    mesut_yılmaz yüce_divan da ceza alabilirdi pr...\n",
              "2  siyaset    disko lar kaldırılıyor başbakan_yardımcısı ar...\n",
              "3  siyaset    sarıgül anayasa_mahkemesi ne gidiyor mustafa_...\n",
              "4  siyaset    erdoğan idamın bir haklılık sebebi var demek ..."
            ],
            "text/html": [
              "\n",
              "  <div id=\"df-0899245e-1144-4f58-ba1d-2363f5b36f4f\">\n",
              "    <div class=\"colab-df-container\">\n",
              "      <div>\n",
              "<style scoped>\n",
              "    .dataframe tbody tr th:only-of-type {\n",
              "        vertical-align: middle;\n",
              "    }\n",
              "\n",
              "    .dataframe tbody tr th {\n",
              "        vertical-align: top;\n",
              "    }\n",
              "\n",
              "    .dataframe thead th {\n",
              "        text-align: right;\n",
              "    }\n",
              "</style>\n",
              "<table border=\"1\" class=\"dataframe\">\n",
              "  <thead>\n",
              "    <tr style=\"text-align: right;\">\n",
              "      <th></th>\n",
              "      <th>category</th>\n",
              "      <th>text</th>\n",
              "    </tr>\n",
              "  </thead>\n",
              "  <tbody>\n",
              "    <tr>\n",
              "      <th>0</th>\n",
              "      <td>siyaset</td>\n",
              "      <td>3 milyon ile ön seçim vaadi mhp nin 10 olağan...</td>\n",
              "    </tr>\n",
              "    <tr>\n",
              "      <th>1</th>\n",
              "      <td>siyaset</td>\n",
              "      <td>mesut_yılmaz yüce_divan da ceza alabilirdi pr...</td>\n",
              "    </tr>\n",
              "    <tr>\n",
              "      <th>2</th>\n",
              "      <td>siyaset</td>\n",
              "      <td>disko lar kaldırılıyor başbakan_yardımcısı ar...</td>\n",
              "    </tr>\n",
              "    <tr>\n",
              "      <th>3</th>\n",
              "      <td>siyaset</td>\n",
              "      <td>sarıgül anayasa_mahkemesi ne gidiyor mustafa_...</td>\n",
              "    </tr>\n",
              "    <tr>\n",
              "      <th>4</th>\n",
              "      <td>siyaset</td>\n",
              "      <td>erdoğan idamın bir haklılık sebebi var demek ...</td>\n",
              "    </tr>\n",
              "  </tbody>\n",
              "</table>\n",
              "</div>\n",
              "      <button class=\"colab-df-convert\" onclick=\"convertToInteractive('df-0899245e-1144-4f58-ba1d-2363f5b36f4f')\"\n",
              "              title=\"Convert this dataframe to an interactive table.\"\n",
              "              style=\"display:none;\">\n",
              "        \n",
              "  <svg xmlns=\"http://www.w3.org/2000/svg\" height=\"24px\"viewBox=\"0 0 24 24\"\n",
              "       width=\"24px\">\n",
              "    <path d=\"M0 0h24v24H0V0z\" fill=\"none\"/>\n",
              "    <path d=\"M18.56 5.44l.94 2.06.94-2.06 2.06-.94-2.06-.94-.94-2.06-.94 2.06-2.06.94zm-11 1L8.5 8.5l.94-2.06 2.06-.94-2.06-.94L8.5 2.5l-.94 2.06-2.06.94zm10 10l.94 2.06.94-2.06 2.06-.94-2.06-.94-.94-2.06-.94 2.06-2.06.94z\"/><path d=\"M17.41 7.96l-1.37-1.37c-.4-.4-.92-.59-1.43-.59-.52 0-1.04.2-1.43.59L10.3 9.45l-7.72 7.72c-.78.78-.78 2.05 0 2.83L4 21.41c.39.39.9.59 1.41.59.51 0 1.02-.2 1.41-.59l7.78-7.78 2.81-2.81c.8-.78.8-2.07 0-2.86zM5.41 20L4 18.59l7.72-7.72 1.47 1.35L5.41 20z\"/>\n",
              "  </svg>\n",
              "      </button>\n",
              "      \n",
              "  <style>\n",
              "    .colab-df-container {\n",
              "      display:flex;\n",
              "      flex-wrap:wrap;\n",
              "      gap: 12px;\n",
              "    }\n",
              "\n",
              "    .colab-df-convert {\n",
              "      background-color: #E8F0FE;\n",
              "      border: none;\n",
              "      border-radius: 50%;\n",
              "      cursor: pointer;\n",
              "      display: none;\n",
              "      fill: #1967D2;\n",
              "      height: 32px;\n",
              "      padding: 0 0 0 0;\n",
              "      width: 32px;\n",
              "    }\n",
              "\n",
              "    .colab-df-convert:hover {\n",
              "      background-color: #E2EBFA;\n",
              "      box-shadow: 0px 1px 2px rgba(60, 64, 67, 0.3), 0px 1px 3px 1px rgba(60, 64, 67, 0.15);\n",
              "      fill: #174EA6;\n",
              "    }\n",
              "\n",
              "    [theme=dark] .colab-df-convert {\n",
              "      background-color: #3B4455;\n",
              "      fill: #D2E3FC;\n",
              "    }\n",
              "\n",
              "    [theme=dark] .colab-df-convert:hover {\n",
              "      background-color: #434B5C;\n",
              "      box-shadow: 0px 1px 3px 1px rgba(0, 0, 0, 0.15);\n",
              "      filter: drop-shadow(0px 1px 2px rgba(0, 0, 0, 0.3));\n",
              "      fill: #FFFFFF;\n",
              "    }\n",
              "  </style>\n",
              "\n",
              "      <script>\n",
              "        const buttonEl =\n",
              "          document.querySelector('#df-0899245e-1144-4f58-ba1d-2363f5b36f4f button.colab-df-convert');\n",
              "        buttonEl.style.display =\n",
              "          google.colab.kernel.accessAllowed ? 'block' : 'none';\n",
              "\n",
              "        async function convertToInteractive(key) {\n",
              "          const element = document.querySelector('#df-0899245e-1144-4f58-ba1d-2363f5b36f4f');\n",
              "          const dataTable =\n",
              "            await google.colab.kernel.invokeFunction('convertToInteractive',\n",
              "                                                     [key], {});\n",
              "          if (!dataTable) return;\n",
              "\n",
              "          const docLinkHtml = 'Like what you see? Visit the ' +\n",
              "            '<a target=\"_blank\" href=https://colab.research.google.com/notebooks/data_table.ipynb>data table notebook</a>'\n",
              "            + ' to learn more about interactive tables.';\n",
              "          element.innerHTML = '';\n",
              "          dataTable['output_type'] = 'display_data';\n",
              "          await google.colab.output.renderOutput(dataTable, element);\n",
              "          const docLink = document.createElement('div');\n",
              "          docLink.innerHTML = docLinkHtml;\n",
              "          element.appendChild(docLink);\n",
              "        }\n",
              "      </script>\n",
              "    </div>\n",
              "  </div>\n",
              "  "
            ]
          },
          "metadata": {},
          "execution_count": 4
        }
      ]
    },
    {
      "cell_type": "markdown",
      "source": [],
      "metadata": {
        "id": "0ioIQtm24TmM"
      }
    },
    {
      "cell_type": "markdown",
      "source": [
        "VERİNİN KATEGORİ DAĞILIMLARI ÇIKARILMIŞTIR."
      ],
      "metadata": {
        "id": "qRtHNtcB4VDs"
      }
    },
    {
      "cell_type": "code",
      "source": [
        "import seaborn as sns \n",
        "\n",
        "sns.countplot(\"category\",data=df_copy)"
      ],
      "metadata": {
        "colab": {
          "base_uri": "https://localhost:8080/",
          "height": 297
        },
        "id": "CxeWKOU1HikB",
        "outputId": "10ec4fee-a32b-4654-8c69-d55db7726757"
      },
      "execution_count": null,
      "outputs": [
        {
          "output_type": "execute_result",
          "data": {
            "text/plain": [
              "<matplotlib.axes._subplots.AxesSubplot at 0x7f81d2de6d90>"
            ]
          },
          "metadata": {},
          "execution_count": 5
        },
        {
          "output_type": "display_data",
          "data": {
            "text/plain": [
              "<Figure size 432x288 with 1 Axes>"
            ],
            "image/png": "[encoded data removed]"
          },
          "metadata": {
            "needs_background": "light"
          }
        }
      ]
    },
    {
      "cell_type": "markdown",
      "source": [
        "ETİKETLEME İŞLEMLERİ İÇİN LABEL ENCODER KULLANILMIŞTIR."
      ],
      "metadata": {
        "id": "cG3qP9hC4bBM"
      }
    },
    {
      "cell_type": "code",
      "source": [
        "from sklearn import preprocessing\n",
        "le = preprocessing.LabelEncoder()\n",
        "\n",
        "labels=le.fit_transform(df_copy.category)\n",
        "labels"
      ],
      "metadata": {
        "id": "OVBO-zGiHjhs"
      },
      "execution_count": null,
      "outputs": []
    },
    {
      "cell_type": "code",
      "source": [
        "\"\"\"\n",
        "\n",
        "0==Dunya\n",
        "1==ekonomi\n",
        "2==kultur\n",
        "3==saglik\n",
        "4==Siyaset\n",
        "5==spor\n",
        "6==teknoloji\n",
        "\n",
        "\"\"\""
      ],
      "metadata": {
        "colab": {
          "base_uri": "https://localhost:8080/",
          "height": 35
        },
        "id": "eQBpvABsHuJV",
        "outputId": "5ad9c25d-fa0a-417d-9b21-35f516412213"
      },
      "execution_count": null,
      "outputs": [
        {
          "output_type": "execute_result",
          "data": {
            "text/plain": [
              "'\\n\\n0==Dunya\\n1==ekonomi\\n2==kultur\\n3==saglik\\n4==Siyaset\\n5==spor\\n6==teknoloji\\n\\n'"
            ],
            "application/vnd.google.colaboratory.intrinsic+json": {
              "type": "string"
            }
          },
          "metadata": {},
          "execution_count": 7
        }
      ]
    },
    {
      "cell_type": "code",
      "source": [
        "from nltk.corpus import stopwords\n",
        "\n",
        "nltk.download(\"stopwords\")"
      ],
      "metadata": {
        "colab": {
          "base_uri": "https://localhost:8080/"
        },
        "id": "UAVcrVz-H2t2",
        "outputId": "74975864-0d1f-41e8-8d01-e11c95a76929"
      },
      "execution_count": null,
      "outputs": [
        {
          "output_type": "stream",
          "name": "stderr",
          "text": [
            "[nltk_data] Downloading package stopwords to /root/nltk_data...\n",
            "[nltk_data]   Package stopwords is already up-to-date!\n"
          ]
        },
        {
          "output_type": "execute_result",
          "data": {
            "text/plain": [
              "True"
            ]
          },
          "metadata": {},
          "execution_count": 8
        }
      ]
    },
    {
      "cell_type": "markdown",
      "source": [
        "ÖNCE VERİLERDE BULUNAN HABERLERİN TAMAMI KÜÇÜK HARFLERE ÇEVRİLMİŞTİR. SONRASINDA REGULAR EXPRESSION İŞLEMİ SAYESİNDE GEREKSİZ GÖRÜLEN TÜM KARAKTERLER VERİ SETİNDEN ÇIKARILMIŞTIR. NLTK KÜTÜPHANESİNİN TOKENİZE YÖNTEMİYLE HABER VERİLERİ KELİME KELİME AYRILMIŞTIR. ÖNCE TÜRKÇEDEKİ DAHA SONRA İNGİLİZCEDEKİ STOPWORDSLAR VERİLERDEN KALDIRILMIŞTIR. SONRASINDA LEMATIZE YÖNTEMİYLE KÖKLERİNE KADAR AYRILAN KELİMELERİN HEPSİ TEKRAR BİR LİSTE YARDIMIYLA BİRLEŞTİRİLMİŞ VE VERİ AYIKLAMA İŞLEMİ TAMAMLANMIŞTIR."
      ],
      "metadata": {
        "id": "BZqKvpyb4hw8"
      }
    },
    {
      "cell_type": "code",
      "source": [
        "text_list=[]\n",
        "\n",
        "for text in df_copy.text:\n",
        "    text = text.lower()  #Büyük harften -Küçük harfe çevirme\n",
        "    text = re.sub(\"[^abcçdefgğhıijklmnoöprsştuüvyz]\",\" \",text)\n",
        "    text=nltk.word_tokenize(text)\n",
        "    text =[word for word in text if not word in set(stopwords.words(\"turkish\"))]\n",
        "    text =[word for word in text if not word in set(stopwords.words(\"english\"))]\n",
        "    lemma=nlp.WordNetLemmatizer()\n",
        "    text=[lemma.lemmatize(word) for word in text] \n",
        "    text=\" \".join(text)\n",
        "    text_list.append(text)"
      ],
      "metadata": {
        "id": "ILA28cibH9iF"
      },
      "execution_count": null,
      "outputs": []
    },
    {
      "cell_type": "code",
      "source": [
        "\n",
        "\n",
        "len(text_list)\n",
        "\n"
      ],
      "metadata": {
        "colab": {
          "base_uri": "https://localhost:8080/"
        },
        "id": "0_9RyLewKQdz",
        "outputId": "a087f660-ce15-45fb-8035-6626d842edbd"
      },
      "execution_count": null,
      "outputs": [
        {
          "output_type": "execute_result",
          "data": {
            "text/plain": [
              "4900"
            ]
          },
          "metadata": {},
          "execution_count": 10
        }
      ]
    },
    {
      "cell_type": "markdown",
      "source": [
        "BAG OF WORDS DEDİĞİMİZ YÖNTEMLE VERİLER VEKTÖRİZE EDİLİP MAKİNENİN ANLAYACAĞI BİR DİL HALİNE DÖNÜŞTÜRÜLMÜŞTÜR."
      ],
      "metadata": {
        "id": "_80q9JkZ5bEs"
      }
    },
    {
      "cell_type": "code",
      "source": [
        "from sklearn.feature_extraction.text import CountVectorizer #Bag of Words\n",
        "\n",
        "max_features=5000 # BoW size\n",
        "\n",
        "count_vectorizer=CountVectorizer(max_features=max_features) \n",
        "\n",
        "sparce_matrix=count_vectorizer.fit_transform(text_list).toarray()"
      ],
      "metadata": {
        "id": "TRrIE36oKaVK"
      },
      "execution_count": null,
      "outputs": []
    },
    {
      "cell_type": "code",
      "source": [
        "sparce_matrix.shape"
      ],
      "metadata": {
        "colab": {
          "base_uri": "https://localhost:8080/"
        },
        "id": "2hcvyf3gKgJv",
        "outputId": "1ba97fa1-cc45-4d6e-822a-12c67cac4662"
      },
      "execution_count": null,
      "outputs": [
        {
          "output_type": "execute_result",
          "data": {
            "text/plain": [
              "(4900, 5000)"
            ]
          },
          "metadata": {},
          "execution_count": 12
        }
      ]
    },
    {
      "cell_type": "code",
      "source": [
        "sparce_matrix[0:1,0:30]"
      ],
      "metadata": {
        "colab": {
          "base_uri": "https://localhost:8080/"
        },
        "id": "Gk-C1_uGKhSf",
        "outputId": "235e49c6-6a61-42b5-9632-9e702000fded"
      },
      "execution_count": null,
      "outputs": [
        {
          "output_type": "execute_result",
          "data": {
            "text/plain": [
              "array([[0, 0, 0, 0, 0, 0, 0, 0, 0, 0, 0, 0, 0, 0, 0, 1, 3, 0, 0, 0, 0, 0,\n",
              "        0, 0, 1, 1, 0, 0, 0, 2]])"
            ]
          },
          "metadata": {},
          "execution_count": 13
        }
      ]
    },
    {
      "cell_type": "code",
      "source": [
        "print(\"en çok kullanılan {} kelime: {}\".format(max_features,count_vectorizer.get_feature_names()))"
      ],
      "metadata": {
        "colab": {
          "base_uri": "https://localhost:8080/"
        },
        "id": "bFV0VLjmKj7y",
        "outputId": "8f45a6a1-58f6-418f-c422-26310ab65517"
      },
      "execution_count": null,
      "outputs": [
        {
          "output_type": "stream",
          "name": "stdout",
          "text": [
            "en çok kullanılan 5000 kelime: ['aa', 'ab', 'abd', 'abdullah', 'abone', 'acar', 'acarer', 'acil', 'acı', 'adalet', 'adam', 'adamları', 'adamlarının', 'adamı', 'adana', 'aday', 'adayı', 'adet', 'adeta', 'adil', 'adlandırılan', 'adli', 'adlı', 'adnan', 'adı', 'adım', 'adımlar', 'adımları', 'adına', 'adını', 'adının', 'adıyla', 'ael', 'afet', 'afganistan', 'afife', 'afrika', 'ahmed', 'ahmet', 'aile', 'ailelerin', 'ailenin', 'ailesi', 'ailesine', 'ailesinin', 'ait', 'ajansı', 'ak', 'akademik', 'akciğer', 'akdağ', 'akdeniz', 'akgül', 'akhisar', 'akif', 'akp', 'aksi', 'aksine', 'aksoy', 'aksu', 'aktaran', 'aktardı', 'aktif', 'aktör', 'akıl', 'akıllı', 'akın', 'akşam', 'akşamı', 'al', 'alacak', 'alacağı', 'alacağını', 'alakalı', 'alan', 'alana', 'alanda', 'alanlarda', 'alanları', 'alanlarında', 'alanya', 'alanı', 'alanına', 'alanında', 'alanındaki', 'alarak', 'albüm', 'albümü', 'aldı', 'aldık', 'aldıkları', 'aldıklarını', 'aldım', 'aldığı', 'aldığımız', 'aldığını', 'ale', 'alerjik', 'alevi', 'aleyhine', 'ali', 'alkol', 'allah', 'alma', 'almadan', 'almak', 'almaları', 'alman', 'almanya', 'alması', 'almaya', 'almayı', 'almış', 'almıştı', 'alper', 'alt', 'altay', 'alternatif', 'altyapı', 'altı', 'altın', 'altına', 'altında', 'altındaki', 'altını', 'altının', 'alzheimer', 'alıcı', 'alım', 'alımı', 'alın', 'alınacak', 'alınan', 'alınarak', 'alındı', 'alındığı', 'alındığını', 'alınması', 'alınmış', 'alınmıştır', 'alınıyor', 'alıp', 'alır', 'alırken', 'alıyor', 'alıyoruz', 'alışveriş', 'amacı', 'amacımız', 'amacıyla', 'amaç', 'amaçla', 'amaçlı', 'ameliyat', 'ameliyatı', 'amerika', 'amerikalı', 'amerikan', 'ana', 'anabilim', 'anadolu', 'analistler', 'analiz', 'anayasa', 'ancak', 'anda', 'android', 'angeles', 'ani', 'animasyon', 'anka', 'ankara', 'anket', 'anlamda', 'anlamlı', 'anlamına', 'anlatan', 'anlatarak', 'anlattı', 'anlatıyor', 'anlayışı', 'anlaşma', 'anlaşması', 'anlaşmaya', 'anma', 'anne', 'annesi', 'antalya', 'antalyaspor', 'antibiyotik', 'antonio', 'antrenman', 'antrenör', 'anılan', 'anımsatan', 'anında', 'app', 'apple', 'ar', 'ara', 'araba', 'arabistan', 'aracı', 'aracılığıyla', 'aracın', 'arada', 'aradan', 'aralarında', 'aralık', 'aralıklarla', 'arama', 'aranan', 'arap', 'arası', 'arasına', 'arasında', 'arasındaki', 'arasından', 'araya', 'arazi', 'araç', 'araçlar', 'araçları', 'araçların', 'araştırma', 'araştırmacılar', 'araştırmada', 'araştırmalar', 'araştırmanın', 'araştırması', 'araştırmaya', 'ard', 'arda', 'ardı', 'ardından', 'arena', 'arjantin', 'arka', 'arkadaş', 'arkadaşları', 'arkadaşı', 'arkasında', 'arkasından', 'arkeoloji', 'armağan', 'arslan', 'art', 'artacak', 'artan', 'artarak', 'artması', 'arttı', 'arttığı', 'arttığını', 'artık', 'artıran', 'artırmak', 'artırılması', 'artırıyor', 'artıyor', 'artış', 'artışla', 'artışı', 'arz', 'arzu', 'arınç', 'arıyor', 'asgari', 'ashington', 'asist', 'asker', 'askeri', 'asla', 'aslan', 'assassin', 'astım', 'asya', 'asıl', 'asıllı', 'atalay', 'atan', 'atarak', 'atatürk', 'atch', 'ateş', 'ateşi', 'ateşkes', 'ateşkesin', 'atmak', 'attı', 'attığı', 'atık', 'atılan', 'avantaj', 'avcı', 'avea', 'avm', 'avni', 'avrasya', 'avro', 'avrupa', 'avukat', 'avukatları', 'avukatı', 'avustralya', 'avusturya', 'ay', 'aya', 'ayak', 'ayakkabı', 'ayakta', 'ayağa', 'aybaba', 'ayda', 'aydan', 'aydın', 'aydır', 'aygün', 'aykut', 'aykırı', 'ayla', 'aylarda', 'aylarında', 'aylık', 'aynı', 'ayrı', 'ayrıca', 'ayrılan', 'ayrıldı', 'ayrıntılı', 'aysal', 'ayı', 'ayına', 'ayında', 'ayından', 'ayının', 'ayşe', 'azalarak', 'azaldı', 'azaldığını', 'azalma', 'azalması', 'azerbaycan', 'aziz', 'azından', 'açabilir', 'açan', 'açlık', 'açtı', 'açtığı', 'açtığını', 'açıdan', 'açık', 'açıkladı', 'açıklama', 'açıklamada', 'açıklamalar', 'açıklamalarda', 'açıklamaları', 'açıklaması', 'açıklamasına', 'açıklamasında', 'açıklamasını', 'açıklamaya', 'açıklamıştı', 'açıklanan', 'açıklandı', 'açıklayan', 'açıkça', 'açılacak', 'açılan', 'açıldı', 'açılması', 'açılış', 'açısından', 'açıyor', 'açığa', 'açığı', 'ağ', 'ağaoğlu', 'ağaç', 'ağrı', 'ağrıları', 'ağrısı', 'ağrısına', 'ağustos', 'ağzı', 'ağır', 'ağırlıklı', 'ağız', 'aş', 'aşamada', 'aşamasında', 'aşan', 'aşağı', 'aşk', 'aşkın', 'aşı', 'aşık', 'aşırı', 'aşısı', 'baba', 'babacan', 'babası', 'babasının', 'bacak', 'bahadır', 'bahar', 'bahçe', 'bahçeli', 'bakan', 'bakanlar', 'bakanları', 'bakanlık', 'bakanlığı', 'bakanlığın', 'bakanı', 'baki', 'baktığımızda', 'bakıldığında', 'bakım', 'bakımından', 'bakın', 'bakır', 'bakırköy', 'bakış', 'balyoz', 'balık', 'balıkesir', 'ban', 'bana', 'bank', 'banka', 'bankacılık', 'bankalar', 'bankaların', 'bankanın', 'bankası', 'barack', 'barcelona', 'bardak', 'barzani', 'barındıran', 'barış', 'barışın', 'basit', 'basketbol', 'baskı', 'baskısı', 'basın', 'basına', 'basında', 'batman', 'batuhan', 'batı', 'baykal', 'bayrak', 'bayraktar', 'bayram', 'bayramı', 'baz', 'bazen', 'bazıları', 'bazında', 'bağ', 'bağdat', 'bağlantı', 'bağlantılı', 'bağlı', 'bağımsız', 'bağırsak', 'bağış', 'bağışı', 'bağışıklık', 'baş', 'başa', 'başaran', 'başardı', 'başarı', 'başarılar', 'başarılı', 'başarısı', 'başarısını', 'başarısız', 'başarıya', 'başarıyla', 'başarıyı', 'başbakan', 'başbakanlık', 'başbakanı', 'başbakanımız', 'başbuğ', 'başka', 'başkan', 'başkanları', 'başkanlık', 'başkanlığı', 'başkanlığına', 'başkanlığında', 'başkanvekili', 'başkanı', 'başkent', 'başkenti', 'başladı', 'başladık', 'başladıklarını', 'başladığı', 'başladığını', 'başlandı', 'başlangıç', 'başlar', 'başlattı', 'başlattığı', 'başlatılan', 'başlayacak', 'başlayan', 'başlayıp', 'başlık', 'başlıklı', 'başlıyor', 'başmüzakereci', 'başsavcılığı', 'başta', 'baştan', 'başvuru', 'başı', 'başına', 'başında', 'başından', 'bbc', 'bdp', 'bebek', 'bebeklerin', 'bebeğin', 'bedeli', 'beden', 'bekir', 'beklediklerini', 'beklediği', 'beklediğini', 'beklenen', 'bekleniyor', 'bekleyen', 'bekliyor', 'bekliyoruz', 'bel', 'belediye', 'belediyesi', 'belediyespor', 'belge', 'belgesel', 'belgesi', 'belirledi', 'belirlendi', 'belirlenen', 'belirli', 'belirten', 'belirterek', 'belirti', 'belirtildi', 'belirtilen', 'belirtilerek', 'belirtileri', 'belirtiliyor', 'belirtirken', 'belirtisi', 'belirtiyor', 'belirtti', 'belli', 'belçika', 'ben', 'bence', 'benden', 'beni', 'benim', 'benzer', 'benzeri', 'beraber', 'berabere', 'beraberinde', 'beraberlik', 'beri', 'berlin', 'besin', 'beslenme', 'bey', 'beyaz', 'beyazlı', 'beyin', 'beyne', 'beynin', 'beyoğlu', 'beğeni', 'beş', 'beşiktaş', 'beşinci', 'beşir', 'beşşar', 'biber', 'bildirdi', 'bildiren', 'bildirildi', 'bile', 'bilen', 'bilet', 'biletleri', 'bilge', 'bilgi', 'bilgiler', 'bilgilere', 'bilgileri', 'bilgilerin', 'bilgilerini', 'bilgisayar', 'bilgisayarı', 'bilgisi', 'bilgisini', 'bilgiye', 'bilgiyi', 'bilim', 'bilimsel', 'bilinen', 'biliniyor', 'bilinmeyen', 'bilinçli', 'biliyor', 'biliyorum', 'biliyoruz', 'bilişim', 'bilmek', 'bin', 'bina', 'binanın', 'binası', 'binden', 'bine', 'bini', 'binlerce', 'bir', 'birand', 'biraz', 'birbirinden', 'birbirine', 'birden', 'birer', 'bireysel', 'birileri', 'birimi', 'birinci', 'birincilik', 'birinde', 'birini', 'birinin', 'birisi', 'birleşik', 'birleşmiş', 'birlik', 'birlikte', 'birliği', 'birtakım', 'birçok', 'bisiklet', 'bitki', 'bitkisel', 'bitlis', 'bitti', 'bizde', 'bizden', 'bize', 'bizi', 'bizim', 'bizimle', 'bizler', 'bizzat', 'biçimde', 'black', 'blackberry', 'blog', 'blue', 'bm', 'bo', 'bodrum', 'bol', 'bomba', 'bombalı', 'borsa', 'boru', 'borussia', 'borç', 'boston', 'boy', 'boyu', 'boyun', 'boyunca', 'boyutlu', 'bozdağ', 'bozuklukları', 'bozukluğu', 'boğaz', 'boğaziçi', 'boş', 'bp', 'brezilya', 'brüksel', 'btk', 'budur', 'bugün', 'bugüne', 'bugünkü', 'bulacak', 'bulan', 'buldu', 'bulduğu', 'bulduğunu', 'bulgaristan', 'bulmak', 'bulunacak', 'bulunan', 'bulunarak', 'bulundu', 'bulunduğu', 'bulunduğuna', 'bulunduğunu', 'bulunmadığını', 'bulunmak', 'bulunmaktadır', 'bulunması', 'bulunmuyor', 'bulunmuştu', 'bulunurken', 'bulunuyor', 'bulut', 'buluyor', 'buluşacak', 'buluştu', 'buluşuyor', 'buna', 'bunda', 'bundan', 'bunlar', 'bunlara', 'bunlardan', 'bunları', 'bunların', 'bunu', 'bunun', 'bununla', 'burada', 'buradaki', 'buradan', 'burak', 'burası', 'buraya', 'bursa', 'bursaspor', 'burun', 'buz', 'böbrek', 'bölge', 'bölgede', 'bölgedeki', 'bölgelerde', 'bölgelerinde', 'bölgenin', 'bölgesel', 'bölgesi', 'bölgesinde', 'bölgesindeki', 'bölgesinden', 'bölgeye', 'bölücü', 'bölüm', 'bölümde', 'bölümü', 'bölümünde', 'bölümüne', 'bölümünü', 'bölümünün', 'böyle', 'böylece', 'böylelikle', 'bülent', 'bünyesinde', 'bütçe', 'bütçesi', 'bütün', 'büyük', 'büyükelçisi', 'büyüklüğü', 'büyüklüğünde', 'büyükşehir', 'büyüme', 'büyümesi', 'büyüyen', 'bırakan', 'bıraktı', 'bıraktığı', 'caberi', 'caddesi', 'canlı', 'cansız', 'cari', 'caz', 'celal', 'cem', 'cemal', 'cemil', 'cenaze', 'cengiz', 'ceo', 'cep', 'cerrahi', 'cerrahisi', 'cevabı', 'cevabını', 'cevap', 'ceylanpınar', 'ceza', 'cezaevi', 'cezaevinde', 'cezası', 'cezasına', 'chelsea', 'chp', 'chrome', 'cia', 'ciddi', 'cihan', 'cihaz', 'cihazlar', 'cihazları', 'cihazı', 'cihazın', 'cilt', 'cinayet', 'cinsel', 'ciro', 'city', 'civarında', 'clinton', 'cluj', 'cnn', 'com', 'contemporary', 'coşkun', 'creed', 'cuma', 'cumartesi', 'cumhurbaşkanlığı', 'cumhurbaşkanı', 'cumhuriyet', 'cumhuriyeti', 'cumhuriyetin', 'curiosity', 'cüneyt', 'dahi', 'dahil', 'daimi', 'dair', 'daire', 'dairesi', 'daki', 'dakika', 'dakikada', 'dakikalık', 'dalı', 'dalında', 'damar', 'damgasını', 'dan', 'daniel', 'dans', 'danışmanlık', 'dar', 'darbe', 'darlığı', 'dava', 'davada', 'davanın', 'davası', 'davet', 'david', 'davutoğlu', 'dayalı', 'dayanışma', 'dağıtım', 'dedi', 'dedik', 'dedim', 'dediği', 'dediğimiz', 'dek', 'deki', 'demek', 'demektir', 'demir', 'demirel', 'demirtaş', 'demişti', 'demokrasi', 'demokrasinin', 'demokrasiye', 'demokrat', 'demokratik', 'den', 'deneme', 'denetim', 'denetleme', 'dengeli', 'denildi', 'denilen', 'deniz', 'denizatı', 'denizcilik', 'denizli', 'denk', 'deplasmanda', 'depolama', 'deprem', 'depremin', 'depresyon', 'derece', 'derecede', 'derecelendirme', 'dergisi', 'dergisinde', 'derhal', 'deri', 'derin', 'derken', 'dernek', 'derneği', 'ders', 'dersim', 'destek', 'destekleyen', 'destekli', 'desteği', 'desteğini', 'desteğiyle', 'destici', 'detaylı', 'dev', 'devam', 'devamı', 'devi', 'devlet', 'devlete', 'devleti', 'devletin', 'devre', 'devreye', 'devri', 'devrim', 'değer', 'değeri', 'değerlendirdi', 'değerlendiren', 'değerlendirilmesi', 'değerlendirme', 'değerlendirmelerde', 'değerlendirmesinde', 'değerlendirmesini', 'değerleri', 'değerli', 'değil', 'değildi', 'değildir', 'değilim', 'değiliz', 'değinen', 'değişen', 'değişik', 'değişiklik', 'değişiklikler', 'değişikliği', 'değişim', 'değişimi', 'değişiyor', 'değişti', 'değiştirmek', 'dha', 'dicle', 'diego', 'dijital', 'dikkat', 'dikkate', 'dikkati', 'dikkatli', 'dil', 'dilde', 'dile', 'dili', 'diliyorum', 'din', 'dini', 'dinleme', 'dinç', 'dinçer', 'diplomatik', 'dir', 'direkt', 'direktör', 'direktörü', 'disiplin', 'disk', 'diyabet', 'diyalog', 'diyanet', 'diyarbakır', 'diyen', 'diyerek', 'diyet', 'diyor', 'diyorlar', 'diyoruz', 'diz', 'dizi', 'dizüstü', 'diğer', 'diğeri', 'diş', 'dişlerin', 'dk', 'dna', 'doktor', 'doktora', 'doktorlar', 'doktorların', 'doktorun', 'doku', 'dokunmatik', 'dokuz', 'dolandırıcılık', 'dolar', 'dolara', 'dolardan', 'dolarlık', 'doları', 'doların', 'dolaylı', 'dolayı', 'dolayısıyla', 'dolu', 'doodle', 'dostluk', 'dosya', 'doz', 'doç', 'doğa', 'doğal', 'doğalgaz', 'doğan', 'doğdu', 'doğru', 'doğrudan', 'doğrultusunda', 'doğu', 'doğum', 'dr', 'duran', 'durması', 'dursun', 'durum', 'duruma', 'durumda', 'durumlar', 'durumlarda', 'durumu', 'durumun', 'durumuna', 'durumunda', 'durumunun', 'duruşma', 'duruşmaya', 'duyarlı', 'duyduğu', 'duyduğunu', 'duygu', 'duygusal', 'duyurdu', 'duyurusunda', 'döndü', 'dönem', 'dönemde', 'döneme', 'dönemi', 'dönemin', 'döneminde', 'dönemine', 'dönemlerde', 'dönen', 'dönmez', 'dönük', 'dönüyor', 'dönüş', 'dönüşüm', 'dördüncü', 'dört', 'döviz', 'dün', 'dünkü', 'dünya', 'dünyaca', 'dünyada', 'dünyadaki', 'dünyanın', 'dünyası', 'dünyasına', 'dünyasında', 'dünyasının', 'dünyaya', 'dünyayı', 'dürüst', 'düzenledi', 'düzenlediği', 'düzenleme', 'düzenlemeler', 'düzenlendi', 'düzenlenecek', 'düzenlenen', 'düzenleyen', 'düzenli', 'düzey', 'düzeyde', 'düzeyinde', 'düzgün', 'düşen', 'düştü', 'düştüğü', 'düştüğünü', 'düşük', 'düşünce', 'düşünmüyorum', 'düşünüyor', 'düşünüyorum', 'düşünüyoruz', 'düşüyor', 'düşüş', 'dış', 'dışarı', 'dışarıda', 'dışarıdan', 'dışişleri', 'dışı', 'dışına', 'dışında', 'dışındaki', 'dışından', 'eb', 'ece', 'eczacıbaşı', 'ed', 'edebilir', 'edebiyat', 'edecek', 'edeceklerini', 'edecektir', 'edeceği', 'edeceğini', 'edeceğiz', 'eden', 'edenler', 'eder', 'ederek', 'ederim', 'ederken', 'edici', 'edildi', 'edildiği', 'edildiğini', 'edilebilir', 'edilecek', 'edileceğini', 'edilemez', 'edilen', 'edilerek', 'edilir', 'ediliyor', 'edilmesi', 'edilmesini', 'edilmesinin', 'edilmiş', 'edilmişti', 'edilmiştir', 'edin', 'edip', 'edirne', 'ediyor', 'ediyorum', 'ediyoruz', 'eet', 'efendisi', 'efes', 'ege', 'egemen', 'egzersiz', 'ei', 'ek', 'eker', 'ekibi', 'ekibin', 'ekibinin', 'ekim', 'ekip', 'ekiplerinden', 'ekledi', 'eklem', 'ekmek', 'ekonomi', 'ekonomik', 'ekonomisi', 'ekonomisinin', 'ekonomiye', 'ekran', 'ekrana', 'eksik', 'eksikliği', 'el', 'elazığ', 'elazığspor', 'elbette', 'elde', 'ele', 'elektrik', 'elektrikli', 'elektronik', 'eleştirdi', 'eleştiren', 'eleştiri', 'eli', 'elif', 'elinde', 'elinden', 'eline', 'elini', 'elitaş', 'ellerinde', 'elçi', 'emek', 'emekli', 'emeklilik', 'emeği', 'emin', 'emine', 'emir', 'emlak', 'emniyet', 'emre', 'endeksi', 'endişe', 'endonezya', 'enerji', 'enfeksiyon', 'enflasyon', 'engel', 'engellemek', 'engelli', 'engin', 'enstitüsü', 'entegre', 'er', 'erbil', 'ercan', 'erdem', 'erdi', 'erdoğan', 'eren', 'ergenekon', 'ergin', 'ergün', 'erişim', 'erkan', 'erkek', 'erkekler', 'erkeklerde', 'erkeklerin', 'erken', 'erksan', 'ermenistan', 'erol', 'eroğlu', 'ertaş', 'ertesi', 'ertuğrul', 'erzurum', 'esad', 'esas', 'esed', 'eser', 'eseri', 'eserin', 'eserler', 'eserleri', 'eserlerin', 'eski', 'eskiden', 'eskişehir', 'esnaf', 'esnasında', 'estetik', 'et', 'etapta', 'eti', 'etken', 'etki', 'etkilediği', 'etkilediğini', 'etkilenen', 'etkiler', 'etkileri', 'etkilerini', 'etkileyen', 'etkileyici', 'etkili', 'etkiliyor', 'etkin', 'etkinlik', 'etkinlikte', 'etkinliği', 'etkisi', 'etkisini', 'etkisinin', 'etme', 'etmedi', 'etmek', 'etmektedir', 'etmeleri', 'etmesi', 'etmesine', 'etmesini', 'etmeye', 'etmeyi', 'etmeyin', 'etmiş', 'etmişti', 'etnik', 'etrafında', 'etti', 'ettik', 'ettikleri', 'ettiklerini', 'ettiler', 'ettim', 'ettiği', 'ettiğimiz', 'ettiğini', 'euro', 'eurovision', 'ev', 'evde', 'eve', 'evet', 'evi', 'evin', 'evinde', 'evlilik', 'evren', 'evvel', 'eyaletinde', 'eylem', 'eylemi', 'eylül', 'eğitim', 'eğitime', 'eğitimi', 'eğlence', 'eğlenceli', 'eş', 'eşi', 'eşit', 'eşlik', 'eşliğinde', 'faaliyet', 'faaliyetleri', 'facebook', 'faiz', 'fakat', 'fakültesi', 'fark', 'farklı', 'farkı', 'farkında', 'faruk', 'fatih', 'fatma', 'fayda', 'faydalı', 'fazla', 'fazlası', 'fazıl', 'federal', 'federasyon', 'federasyonu', 'felç', 'fenerbahçe', 'fernandes', 'festival', 'festivali', 'festivalin', 'fetih', 'fi', 'fiber', 'fidan', 'fiili', 'fikir', 'fikri', 'filistin', 'filistinli', 'film', 'filmde', 'filmi', 'filmin', 'filminde', 'filminin', 'filmler', 'filmleri', 'filmlerin', 'final', 'finale', 'finans', 'finansal', 'finansman', 'firma', 'firmalar', 'firmanın', 'firması', 'fitch', 'fiyat', 'fiyata', 'fiyatları', 'fiyatlarının', 'fiyatı', 'fiyatının', 'fizik', 'fiziki', 'fiziksel', 'fon', 'fonu', 'ford', 'forma', 'foto', 'fotoğraf', 'fotoğrafları', 'fotoğrafı', 'frankfurt', 'fransa', 'fransız', 'fuar', 'fuarda', 'fuarı', 'futbol', 'futbolcu', 'futbolcular', 'füze', 'fırlatma', 'fırsat', 'fırsatı', 'gala', 'galatasaray', 'galeri', 'galerisi', 'galibiyet', 'galibiyetle', 'galip', 'game', 'gamze', 'gangnam', 'garanti', 'gayet', 'gayret', 'gayrimenkul', 'gaz', 'gazete', 'gazeteci', 'gazeteciler', 'gazetecilere', 'gazetecilerin', 'gazetecinin', 'gazetesi', 'gazetesinin', 'gazi', 'gaziantep', 'gazze', 'gazı', 'gb', 'ge', 'gebelik', 'gebelikte', 'gece', 'gecede', 'gecenin', 'gecesi', 'geldi', 'geldik', 'geldiği', 'geldiğinde', 'geldiğini', 'gelebilir', 'gelecek', 'gelecekte', 'geleceğe', 'geleceği', 'geleceğin', 'geleceğini', 'gelen', 'geleneksel', 'geleni', 'gelerek', 'gelip', 'gelir', 'geliri', 'gelirleri', 'geliyor', 'gelişen', 'gelişim', 'gelişimi', 'gelişme', 'gelişmekte', 'gelişmeler', 'gelişmeleri', 'gelişmiş', 'geliştirdiği', 'geliştirilen', 'geliştirilmesi', 'geliştirme', 'geliştirmek', 'gelmeden', 'gelmedi', 'gelmek', 'gelmesi', 'gelmiş', 'gemma', 'genel', 'genelde', 'genelinde', 'genelkurmay', 'genellikle', 'genetik', 'geniş', 'gensoru', 'genç', 'gençler', 'gençlerin', 'gençlik', 'george', 'gerek', 'gereken', 'gerekir', 'gerekirse', 'gerekiyor', 'gerekli', 'gerekmektedir', 'gerekse', 'gereksiz', 'gerektiren', 'gerektiği', 'gerektiğine', 'gerektiğini', 'gerektiğinin', 'gerekçesiyle', 'gereği', 'geri', 'geride', 'geriledi', 'geriye', 'gerçek', 'gerçekleşecek', 'gerçekleşen', 'gerçekleşti', 'gerçekleştirdi', 'gerçekleştirdiği', 'gerçekleştiren', 'gerçekleştirildi', 'gerçekleştirilecek', 'gerçekleştirilen', 'gerçekten', 'gerçeği', 'getirdi', 'getirdiği', 'getirdiğini', 'getirecek', 'getiren', 'getirerek', 'getirildi', 'getirilen', 'getirilmesi', 'getiriyor', 'getirmek', 'gezegen', 'geç', 'geçecek', 'geçen', 'geçerek', 'geçerli', 'geçici', 'geçirdi', 'geçirdiği', 'geçiren', 'geçirilen', 'geçirmek', 'geçiyor', 'geçiş', 'geçmek', 'geçmesi', 'geçmiş', 'geçmişte', 'geçti', 'geçtiği', 'geçtiğimiz', 'geçtiğini', 'gidecek', 'giden', 'gider', 'giderek', 'giderken', 'giderleri', 'gidip', 'gidiyor', 'girdi', 'girdiği', 'girecek', 'giren', 'girerken', 'giriyor', 'giriş', 'girişim', 'girişimcilik', 'girmek', 'girmesi', 'gitar', 'gitmek', 'gitmesi', 'gitti', 'gittiği', 'gittiğini', 'giyen', 'giyim', 'gizli', 'gişe', 'global', 'gol', 'golcü', 'golle', 'golü', 'google', 'gorey', 'gps', 'gram', 'grand', 'grevi', 'grip', 'group', 'grubu', 'grubun', 'grubunda', 'grup', 'gruplar', 'grupları', 'grupta', 'gruptan', 'gurur', 'gök', 'gökhan', 'göktürk', 'gönderdi', 'gönderdiği', 'gönderen', 'gönderilen', 'gönül', 'gördü', 'gördük', 'gördüm', 'gördüğü', 'gördüğünü', 'göre', 'gören', 'görev', 'görevden', 'göreve', 'görevi', 'görevine', 'görevini', 'görevlerini', 'görevli', 'görevlileri', 'görme', 'görmek', 'görsel', 'görüldü', 'görüldüğünü', 'görülen', 'görülme', 'görülmektedir', 'görülür', 'görülüyor', 'görünen', 'görüntü', 'görüntüleme', 'görüntüler', 'görüntüleri', 'görüntülerini', 'görünüyor', 'görüyor', 'görüyorum', 'görüyoruz', 'görüş', 'görüşlerini', 'görüşme', 'görüşmede', 'görüşmeler', 'görüşmelerde', 'görüşmeleri', 'görüşmelerin', 'görüştü', 'görüşünü', 'gösterdi', 'gösterdiği', 'gösterdiğini', 'gösteren', 'göstererek', 'göstergesi', 'gösteri', 'gösterildi', 'gösterilecek', 'gösterilen', 'gösterime', 'gösteriyor', 'göstermek', 'göstermesi', 'göz', 'gözaltına', 'gözde', 'gözden', 'göze', 'gözler', 'gözyaşı', 'gözü', 'göç', 'göğüs', 'gücü', 'gücünü', 'gül', 'güler', 'gümrük', 'gümüş', 'gün', 'günay', 'güncel', 'günde', 'gündem', 'gündemde', 'gündeme', 'gündemi', 'gündemine', 'günden', 'gündür', 'gündüz', 'güne', 'güney', 'güneydoğu', 'güneş', 'günler', 'günlerde', 'günleri', 'günlük', 'günü', 'günümüz', 'günümüzde', 'günün', 'gününde', 'güven', 'güvenilir', 'güvenli', 'güvenlik', 'güvenliği', 'güvenliğini', 'güzel', 'güç', 'güçler', 'güçleri', 'güçlerinin', 'güçlü', 'gıda', 'ha', 'haber', 'haberdar', 'haberde', 'habere', 'haberi', 'haberine', 'haberler', 'haberleri', 'haberleşme', 'hacettepe', 'hacı', 'hafif', 'hafta', 'haftada', 'haftalık', 'haftanın', 'haftası', 'haftasında', 'hak', 'hakan', 'hakaret', 'hakem', 'hakim', 'hakkari', 'hakkı', 'hakkında', 'hakkındaki', 'hakkını', 'hakları', 'haklarını', 'haklı', 'haksız', 'hal', 'hala', 'halde', 'hale', 'halen', 'hali', 'halil', 'halinde', 'haline', 'halit', 'halk', 'halka', 'halkla', 'halkı', 'halkın', 'halkına', 'halkını', 'halkının', 'halı', 'ham', 'hamas', 'hamdi', 'hamile', 'hamilelik', 'han', 'hangi', 'hanım', 'hapis', 'harcama', 'harekat', 'hareket', 'harekete', 'hareketi', 'hareketli', 'hareketsiz', 'harika', 'hariç', 'hasan', 'hasar', 'hassas', 'hasta', 'hastada', 'hastalar', 'hastalara', 'hastalarda', 'hastaları', 'hastalarımız', 'hastaların', 'hastalarının', 'hastalık', 'hastalıklar', 'hastalıklara', 'hastalıkları', 'hastalıkların', 'hastalıklarının', 'hastalığa', 'hastalığı', 'hastalığın', 'hastalığına', 'hastalığının', 'hastane', 'hastanede', 'hastanelerde', 'hastanesi', 'hastaneye', 'hastanın', 'hastası', 'hastaya', 'hastayı', 'hasılat', 'hat', 'hata', 'hatalar', 'hatası', 'hatay', 'hatları', 'hatsapp', 'hatta', 'hattı', 'hatırlatan', 'hatırlatarak', 'hatırlattı', 'hatırlatılması', 'hava', 'havaalanı', 'havacılık', 'havada', 'havalarda', 'havalimanı', 'havaya', 'hayal', 'hayat', 'hayata', 'hayati', 'hayatta', 'hayatı', 'hayatın', 'hayatına', 'hayatında', 'hayatını', 'hayatının', 'hayvan', 'hayvancılık', 'hayır', 'hazine', 'haziran', 'hazır', 'hazırladı', 'hazırladığı', 'hazırlanan', 'hazırlanıyor', 'hazırlık', 'hazırız', 'hd', 'hedef', 'hedefi', 'hedefimiz', 'hedeflediklerini', 'hedefleri', 'hedefliyor', 'hedefliyoruz', 'hediye', 'hekim', 'hekimi', 'hemen', 'henüz', 'hepatit', 'hepimiz', 'hepsinin', 'herhalde', 'herhangi', 'herkes', 'herkese', 'herkesi', 'herkesin', 'hesabı', 'hesap', 'heyecan', 'heyet', 'heyeti', 'heykel', 'hg', 'hik', 'hikaye', 'hikayesi', 'hikmet', 'hindi', 'hindistan', 'hisarcıklıoğlu', 'hisse', 'hizmet', 'hizmete', 'hizmeti', 'hizmetler', 'hizmetleri', 'hiçbir', 'hobbit', 'hoca', 'holding', 'hollanda', 'hollandalı', 'holly', 'hoş', 'hristofyas', 'http', 'hu', 'hukuk', 'hukuki', 'hurriyet', 'huylu', 'huzur', 'hz', 'hücre', 'hücreler', 'hücrelerin', 'hüküm', 'hükümet', 'hükümeti', 'hükümetin', 'hükümetinin', 'hürriyet', 'hüseyin', 'hız', 'hızla', 'hızlı', 'iade', 'ibrahim', 'ibrahimi', 'icra', 'idam', 'idare', 'idaresi', 'idari', 'iddia', 'iddialar', 'iddiaları', 'iddialı', 'iddiası', 'iddiasıyla', 'ideal', 'idmanyurdu', 'idrar', 'ifade', 'ifadeler', 'ifadeleri', 'ifadelerini', 'ifadesi', 'ifadesini', 'iflas', 'ihale', 'ihalede', 'ihalesi', 'ihaleye', 'ihlal', 'ihmal', 'ihracat', 'ihracatı', 'ihraç', 'ihsan', 'ihtimali', 'ihtiyacı', 'ihtiyacımız', 'ihtiyaç', 'iken', 'iki', 'ikili', 'ikinci', 'ikincisi', 'ikisi', 'ikna', 'ikramiye', 'iktidar', 'iktidara', 'iktidarı', 'iktidarın', 'il', 'ila', 'ilacın', 'ilan', 'ilave', 'ilaç', 'ilaçlar', 'ilaçları', 'ilaçların', 'ilde', 'ileri', 'ileride', 'ilerleme', 'ilerleyen', 'iletişim', 'ilgi', 'ilgili', 'ilginç', 'ilgisi', 'ilgisini', 'ilgiyi', 'ilham', 'ilhan', 'ilişki', 'ilişkiler', 'ilişkileri', 'ilişkilerin', 'ilişkilerinin', 'ilişkin', 'ilk', 'ilke', 'ilker', 'ilköğretim', 'illiams', 'ilçe', 'ilçesi', 'ilçesinde', 'imalat', 'imar', 'imf', 'imha', 'imkan', 'imkanı', 'imkb', 'imralı', 'imza', 'inan', 'inandığını', 'inanılmaz', 'inanıyorum', 'ince', 'inceleme', 'inci', 'inde', 'indirim', 'indo', 'infaz', 'ingiliz', 'ingilizce', 'ingiltere', 'ini', 'inin', 'insan', 'insana', 'insani', 'insanlar', 'insanlara', 'insanları', 'insanların', 'insanlık', 'insansız', 'insanı', 'insanın', 'instagram', 'insülin', 'intel', 'inter', 'internet', 'internete', 'internetin', 'internette', 'internetten', 'intihar', 'inç', 'inönü', 'inşa', 'inşaat', 'inşallah', 'io', 'ipad', 'ipek', 'ipekçi', 'iphone', 'iptal', 'irak', 'iran', 'irlanda', 'isabet', 'isim', 'isimler', 'isimleri', 'isimlerin', 'isimlerinden', 'isimli', 'iskoçya', 'islam', 'ismail', 'ismet', 'ismi', 'ismini', 'ispanya', 'ispanyol', 'israil', 'istanbul', 'istatistik', 'istedi', 'istedikleri', 'istediklerini', 'istedim', 'istediği', 'istediğimiz', 'istediğini', 'istediğiniz', 'istemiyle', 'istemiyor', 'istemiyorum', 'istemiyoruz', 'istenen', 'istenmeyen', 'ister', 'isterim', 'isteyen', 'isteyenler', 'isteği', 'istifa', 'istihbarat', 'istihdam', 'istiklal', 'istikrar', 'istiyor', 'istiyorum', 'istiyoruz', 'isveç', 'isviçre', 'italya', 'italyan', 'ithal', 'itibar', 'itibaren', 'itibariyle', 'itibarıyla', 'itiraz', 'itter', 'ivme', 'iyi', 'iyice', 'iyileşme', 'izin', 'izledi', 'izleme', 'izlemek', 'izlenen', 'izleyici', 'izmir', 'izni', 'iç', 'içeren', 'içeride', 'içerik', 'içerikli', 'içerisinde', 'içeriği', 'içi', 'içinde', 'içindeki', 'içinden', 'içine', 'içişleri', 'içme', 'iş', 'işadamları', 'işaret', 'işbirliği', 'işbirliğiyle', 'işe', 'işgal', 'işi', 'işin', 'işine', 'işini', 'işitme', 'işkence', 'işlem', 'işlemci', 'işlemi', 'işlemler', 'işlemleri', 'işlenen', 'işler', 'işleri', 'işletim', 'işletme', 'işsizlik', 'işte', 'işten', 'işçi', 'işçilerin', 'işçinin', 'işık', 'jackson', 'james', 'jandarma', 'japon', 'japonya', 'jay', 'jeff', 'jinekolojik', 'john', 'joker', 'jolly', 'juventus', 'jüri', 'ka', 'kabine', 'kabul', 'kadar', 'kadir', 'kadro', 'kadrosuna', 'kadroya', 'kadıköy', 'kadın', 'kadına', 'kadınlar', 'kadınlarda', 'kadınların', 'kadının', 'kafa', 'kahramanmaraş', 'kahve', 'kahveci', 'kahvesi', 'kala', 'kalabalık', 'kalacak', 'kalan', 'kalbin', 'kaldı', 'kaldırıldı', 'kaldırılması', 'kaldığı', 'kaldığını', 'kaleci', 'kaleme', 'kaliteli', 'kalitesi', 'kalitesini', 'kalkınma', 'kalma', 'kalmadı', 'kalmak', 'kalması', 'kalmış', 'kalmıştı', 'kalp', 'kalıcı', 'kalıyor', 'kamera', 'kamerası', 'kampanya', 'kampanyası', 'kamu', 'kamuoyu', 'kamuoyuna', 'kamuoyunda', 'kamuoyunun', 'kan', 'kanada', 'kanadı', 'kanal', 'kanalı', 'kanatlı', 'kanay', 'kanlı', 'kanser', 'kansere', 'kanseri', 'kanserinin', 'kanun', 'kanuni', 'kanunu', 'kapak', 'kapalı', 'kapasite', 'kapattı', 'kaplan', 'kapsamda', 'kapsamlı', 'kapsamına', 'kapsamında', 'kapsayan', 'kapı', 'kar', 'kara', 'karabükspor', 'karaciğer', 'karadayı', 'karadeniz', 'karakter', 'karakterini', 'karanlık', 'karar', 'karara', 'kararlar', 'kararları', 'kararlı', 'kararı', 'kararın', 'kararını', 'kararının', 'kardeş', 'kardeşi', 'kardeşler', 'kardeşlik', 'karnesi', 'kart', 'kartal', 'kartı', 'karın', 'karşı', 'karşılaşma', 'karşılaşmada', 'karşılaşmanın', 'karşılaşmayı', 'karşılık', 'karşılıklı', 'karşılığı', 'karşılığında', 'karşılığını', 'karşımıza', 'karşın', 'karşısına', 'karşısında', 'karşıya', 'kassam', 'kasım', 'kat', 'katar', 'kategoride', 'kategorisinde', 'katkı', 'katkıda', 'katkısı', 'katma', 'katı', 'katılacak', 'katılan', 'katıldı', 'katıldığı', 'katılmak', 'katılım', 'katılımıyla', 'kaya', 'kaybeden', 'kaybetti', 'kaybettiği', 'kaybettiğini', 'kaybı', 'kaybına', 'kaydeden', 'kaydederek', 'kaydedildi', 'kaydetti', 'kaydı', 'kaynak', 'kaynaklanan', 'kaynaklar', 'kaynaklı', 'kaynağı', 'kayseri', 'kayserispor', 'kayıp', 'kayıt', 'kayıtlı', 'kaza', 'kazan', 'kazanacak', 'kazanan', 'kazanarak', 'kazandı', 'kazandığı', 'kazanma', 'kazanmak', 'kazası', 'kaç', 'kaçak', 'kağıt', 'kdv', 'kemal', 'kemer', 'kemik', 'kenan', 'kendi', 'kendileri', 'kendilerine', 'kendilerini', 'kendilerinin', 'kendimi', 'kendimizi', 'kendine', 'kendini', 'kendisi', 'kendisinden', 'kendisine', 'kendisini', 'kendisinin', 'kendisiyle', 'kent', 'kenti', 'kentin', 'kentinde', 'kentindeki', 'kentsel', 'kere', 'kerim', 'kerkük', 'kesimi', 'kesin', 'kesinlikle', 'keskin', 'keşif', 'keşke', 'kg', 'kilit', 'kilo', 'kilogram', 'kilometre', 'kimi', 'kimin', 'kimlik', 'kimse', 'kimsenin', 'kimseye', 'kimyasal', 'king', 'kira', 'kitabı', 'kitabın', 'kitabını', 'kitap', 'kitapları', 'kitapta', 'kitle', 'kişi', 'kişiden', 'kişiler', 'kişilerde', 'kişilere', 'kişilerin', 'kişilik', 'kişinin', 'kişisel', 'kişiye', 'kişiyi', 'kktc', 'klasik', 'klinik', 'km', 'koah', 'kobi', 'kocaeli', 'kocaman', 'kolay', 'kolayca', 'kolesterol', 'komedi', 'komisyon', 'komisyonu', 'komisyonun', 'komitesi', 'komutanlığı', 'komutanı', 'komünist', 'komşu', 'konferans', 'konferansı', 'kongre', 'kongresi', 'konser', 'konseri', 'konseyi', 'kontrol', 'kontrolü', 'konu', 'konuda', 'konudaki', 'konuk', 'konulan', 'konular', 'konularda', 'konuları', 'konuların', 'konulu', 'konumuna', 'konumunda', 'konunun', 'konusu', 'konusunda', 'konusundaki', 'konusunun', 'konut', 'konuya', 'konuyla', 'konuyu', 'konuşan', 'konuşma', 'konuşmada', 'konuşmak', 'konuşmasında', 'konuşmasını', 'konuşmasının', 'konuştu', 'konuştuk', 'konya', 'kore', 'korku', 'korkusu', 'koruma', 'korumak', 'korunma', 'korunması', 'koruyucu', 'kosova', 'koyan', 'koydu', 'koyduğu', 'koymak', 'koyuyor', 'koç', 'kredi', 'kritik', 'kriz', 'krize', 'krizi', 'krizin', 'kronik', 'kudüs', 'kulak', 'kullanan', 'kullanarak', 'kullandı', 'kullandığı', 'kullandığını', 'kullanma', 'kullanmak', 'kullanmaya', 'kullanıcı', 'kullanıcılar', 'kullanıcılara', 'kullanıcıları', 'kullanıcıların', 'kullanıcılarının', 'kullanıcının', 'kullanıcısı', 'kullanılan', 'kullanılarak', 'kullanıldı', 'kullanıldığı', 'kullanıldığını', 'kullanılması', 'kullanılıyor', 'kullanım', 'kullanıma', 'kullanımı', 'kullanımının', 'kullanırken', 'kullanıyor', 'kulübü', 'kulübün', 'kulüp', 'kupa', 'kupası', 'kur', 'kuran', 'kurban', 'kurdu', 'kurduğu', 'kurgu', 'kurmak', 'kurtulmak', 'kurtulmuş', 'kurtuluş', 'kuru', 'kurucu', 'kurucusu', 'kurul', 'kurulacak', 'kurulan', 'kurulması', 'kurulu', 'kuruluş', 'kuruluşları', 'kuruluşlarının', 'kuruluşu', 'kurum', 'kurumlar', 'kurumların', 'kurumsal', 'kurumu', 'kuruş', 'kurşun', 'kutsal', 'kuveyt', 'kuvvet', 'kuvvetler', 'kuvvetleri', 'kuyt', 'kuzey', 'kuzeyindeki', 'kuzu', 'kök', 'kökenli', 'köprü', 'kötü', 'köyü', 'köşe', 'kültür', 'kültürel', 'kültürünü', 'küresel', 'kürt', 'kürtaj', 'kürtler', 'küçük', 'kıbrıs', 'kılıç', 'kılıçdaroğlu', 'kıran', 'kırdı', 'kırmızı', 'kırmızılı', 'kısa', 'kısmen', 'kısmı', 'kısmını', 'kısmının', 'kız', 'kızı', 'kızılay', 'kızılötesi', 'kış', 'kışanak', 'la', 'lacivertli', 'ladin', 'lale', 'laptop', 'lar', 'ların', 'lastiği', 'lavrov', 'layık', 'lazer', 'lazım', 'le', 'ler', 'lerde', 'leri', 'lerin', 'levent', 'leyla', 'lg', 'li', 'libya', 'lider', 'lideri', 'liderler', 'liderleri', 'lig', 'ligde', 'ligi', 'ligin', 'lik', 'limassol', 'limon', 'lincoln', 'lira', 'liradan', 'liralık', 'liraya', 'lisans', 'lise', 'lisesi', 'listesinde', 'litre', 'live', 'lojistik', 'londra', 'los', 'loto', 'loğoğlu', 'lu', 'luk', 'lumia', 'lübnan', 'lük', 'lüks', 'lütfen', 'lı', 'lık', 'maalesef', 'macaristan', 'madalya', 'madde', 'maddeler', 'maddeleri', 'maddelerin', 'maddesi', 'maddi', 'madrid', 'mahallesi', 'mahkeme', 'mahkemede', 'mahkemenin', 'mahkemesi', 'mahkemeye', 'mahkum', 'mahmud', 'makedonya', 'makinesi', 'mal', 'malala', 'malatya', 'mali', 'maliki', 'maliye', 'maliyet', 'maliyeti', 'maliyetli', 'malzeme', 'manchester', 'manevi', 'manisa', 'manuel', 'map', 'mar', 'mardin', 'maria', 'mark', 'marka', 'markası', 'market', 'marmara', 'mart', 'martin', 'maruz', 'marşı', 'masa', 'masaya', 'maslak', 'masum', 'mavi', 'mayıs', 'maç', 'maça', 'maçlarda', 'maçları', 'maçta', 'maçtan', 'maçı', 'maçın', 'maçına', 'maçında', 'maçından', 'maçını', 'maçının', 'mağaza', 'mağdur', 'mağlup', 'mcafee', 'meclis', 'meclisi', 'medical', 'medvedev', 'medya', 'medyada', 'mehmet', 'meksika', 'mektup', 'meme', 'memnun', 'memorial', 'memur', 'menderes', 'menisküs', 'mensuplarının', 'merak', 'merakla', 'merkel', 'merkez', 'merkezde', 'merkezi', 'merkezinde', 'merkezine', 'merkezleri', 'merkezlerinde', 'merkezli', 'mersin', 'mesafe', 'mesaj', 'mesajlar', 'mesajı', 'mesela', 'mesele', 'meselesi', 'meslek', 'mesleki', 'messenger', 'messi', 'mesut', 'metabolik', 'metal', 'metin', 'metre', 'metrekare', 'metrekarelik', 'mevcut', 'mevlana', 'mevsim', 'meydan', 'meydana', 'meydanı', 'meyve', 'mezun', 'meşal', 'mhp', 'mi', 'michael', 'microsoft', 'mide', 'midir', 'mikro', 'miktar', 'miktarda', 'miktarı', 'miktarının', 'millet', 'milletin', 'milletler', 'milletvekili', 'milletvekilleri', 'milletvekillerinin', 'milli', 'milyar', 'milyon', 'milyona', 'milyondan', 'milyonlarca', 'milyonu', 'milyonun', 'mini', 'misiniz', 'mit', 'mm', 'mobil', 'moda', 'model', 'modeli', 'modern', 'moody', 'moral', 'moskova', 'motor', 'motoru', 'mp', 'mr', 'muayene', 'muayenesi', 'muhabirine', 'muhalefet', 'muhalefetin', 'muhalif', 'muhalifler', 'muhaliflerin', 'muhammed', 'muharrem', 'muhtemel', 'muhteşem', 'murat', 'mursi', 'mustafa', 'musunuz', 'mutabakat', 'mutlaka', 'mutlu', 'mutluluk', 'muğla', 'myanmar', 'mücadele', 'mücadelede', 'mücadelenin', 'mücadelesi', 'mücadeleyi', 'müdahale', 'müdür', 'müdürlüğü', 'müdürü', 'müjde', 'mükemmel', 'mümkün', 'müslüman', 'müthiş', 'müzakere', 'müzayede', 'müze', 'müzesi', 'müzik', 'müzisyen', 'müziği', 'müziğin', 'müşteri', 'mıdır', 'mısır', 'na', 'nadir', 'nakil', 'nakli', 'nasa', 'nato', 'nazım', 'nba', 'nca', 'nce', 'nci', 'nda', 'ndaki', 'ndan', 'nde', 'ndeki', 'nden', 'nedeni', 'nedeniyle', 'nedenle', 'nedenlerle', 'nedir', 'nefes', 'negatif', 'neler', 'nelerdir', 'neredeyse', 'nesil', 'net', 'netanyahu', 'neticesinde', 'nevzat', 'nfc', 'ni', 'nihai', 'nihat', 'nin', 'nisan', 'nitelikli', 'nitelikte', 'niteliği', 'niyetli', 'nobel', 'noda', 'noel', 'nokia', 'nokta', 'noktada', 'noktası', 'noktasında', 'noktaya', 'normal', 'norveç', 'note', 'notu', 'notunu', 'nu', 'numara', 'numaralı', 'numarası', 'nun', 'nuri', 'nü', 'nüfus', 'nükleer', 'nün', 'nı', 'nın', 'obama', 'obezite', 'obezitenin', 'ocak', 'oda', 'odası', 'odasında', 'odtü', 'ofis', 'oktay', 'okul', 'okula', 'okulda', 'okuldan', 'okullarda', 'okulu', 'okulun', 'okur', 'okuyan', 'olabilecek', 'olabileceği', 'olabileceğine', 'olabileceğini', 'olabilir', 'olabiliyor', 'olacak', 'olacaktır', 'olacağı', 'olacağına', 'olacağını', 'olacağız', 'olamaz', 'olan', 'olanlar', 'olanların', 'olarak', 'olası', 'olay', 'olayda', 'olaylar', 'olaylara', 'olayları', 'olayların', 'olayı', 'olayın', 'olağan', 'olağanüstü', 'oldu', 'olduk', 'oldukları', 'olduklarını', 'oldukça', 'oldum', 'olduğu', 'olduğumuz', 'olduğuna', 'olduğunda', 'olduğundan', 'olduğunu', 'olduğunun', 'olimpiyat', 'olma', 'olmadan', 'olmadı', 'olmadığı', 'olmadığına', 'olmadığını', 'olmak', 'olmakla', 'olmaksızın', 'olmaktadır', 'olmaktan', 'olmaları', 'olmalı', 'olmalıdır', 'olmaması', 'olmanın', 'olmasa', 'olması', 'olmasın', 'olmasına', 'olmasından', 'olmasını', 'olmasının', 'olmaya', 'olmayacak', 'olmayacağını', 'olmayan', 'olmayı', 'olmaz', 'olmazsa', 'olmuyor', 'olmuş', 'olmuştu', 'olmuştur', 'olsa', 'olsaydı', 'olsun', 'olumlu', 'olumsuz', 'olun', 'olunca', 'olup', 'olur', 'olurken', 'olursa', 'oluyor', 'oluşan', 'oluştu', 'oluşturan', 'oluşturdu', 'oluşturduğu', 'oluşturulan', 'oluşturuyor', 'oluştuğunu', 'oluşuyor', 'ona', 'onay', 'ondan', 'onlar', 'onlara', 'onlarca', 'onları', 'onların', 'online', 'onu', 'onun', 'onunla', 'onur', 'ood', 'op', 'opera', 'operasyon', 'operasyonlarda', 'operasyonu', 'optik', 'orada', 'oradaki', 'oradan', 'oran', 'oranda', 'oranla', 'oranları', 'oranlarının', 'oranı', 'oranında', 'oranının', 'oraya', 'ordu', 'orduspor', 'ordusu', 'ordusunun', 'organ', 'organik', 'organizasyon', 'organize', 'orgeneral', 'orhan', 'orkestrası', 'orld', 'orman', 'ormanı', 'orta', 'ortada', 'ortadan', 'ortadoğu', 'ortak', 'ortaklık', 'ortaklığı', 'ortalama', 'ortam', 'ortamda', 'ortamlarda', 'ortamında', 'ortaya', 'ortağı', 'oscar', 'osman', 'osmanlı', 'otel', 'otomatik', 'otomobil', 'otomotiv', 'oturan', 'oy', 'oynadı', 'oynadığı', 'oynamak', 'oynamaya', 'oynanacak', 'oynanan', 'oynayacağı', 'oynayan', 'oynuyor', 'oysa', 'oyun', 'oyuna', 'oyuncak', 'oyuncu', 'oyuncular', 'oyuncuları', 'oyuncuların', 'oyuncunun', 'oyuncusu', 'oyunda', 'oyunlar', 'oyunları', 'oyunu', 'oyunun', 'ozan', 'oğlu', 'oğuz', 'oğuzhan', 'pa', 'pahalı', 'paketi', 'pakistan', 'pamuk', 'para', 'paralel', 'paranın', 'parası', 'parayı', 'paris', 'park', 'parlak', 'parlamento', 'parti', 'partiler', 'partili', 'partinin', 'partisi', 'partisinin', 'parça', 'parçası', 'pasifik', 'patent', 'patriot', 'pay', 'paylaştı', 'paylaştığı', 'paylaşım', 'payı', 'pazar', 'pazarlama', 'pazartesi', 'pazarı', 'pazarına', 'pazarında', 'paşa', 'pc', 'pcos', 'pek', 'peki', 'pekin', 'perakende', 'performans', 'performansı', 'performansını', 'personel', 'perşembe', 'peter', 'petrol', 'pi', 'pilot', 'piyango', 'piyano', 'piyasa', 'piyasada', 'piyasası', 'piyasaya', 'pkk', 'plan', 'plana', 'planlanan', 'planlanıyor', 'planlıyor', 'planı', 'plastik', 'platformu', 'play', 'playstation', 'po', 'polat', 'polikistik', 'polis', 'polise', 'polisi', 'polisin', 'politik', 'politika', 'politikası', 'polonya', 'popüler', 'portakal', 'posta', 'pozitif', 'pratik', 'prim', 'pro', 'problem', 'problemi', 'problemleri', 'prof', 'profesyonel', 'profesör', 'program', 'programda', 'programı', 'programına', 'programında', 'proje', 'projede', 'projeler', 'projeleri', 'projenin', 'projesi', 'projesine', 'projesinin', 'projeye', 'prostat', 'protein', 'protesto', 'protez', 'protokol', 'provokasyon', 'psikolojik', 'ptt', 'puan', 'puanla', 'putin', 'pınar', 'radar', 'radyasyon', 'radyo', 'rahat', 'rahatlıkla', 'rahatsız', 'rahatsızlık', 'rahatsızlığı', 'rahim', 'rahmetli', 'rakam', 'rakamın', 'rakibi', 'rakip', 'ramazan', 'randevu', 'rapor', 'raporda', 'raporu', 'rağmen', 'real', 'recep', 'red', 'reddetti', 'rehabilitasyon', 'rekabet', 'reklam', 'rekor', 'rekoru', 'rektörü', 'renault', 'renk', 'renkli', 'resim', 'resmen', 'resmi', 'resulayn', 'reçete', 'reçeteler', 'ribaund', 'risk', 'riski', 'riskini', 'riskinin', 'riskli', 'robert', 'robot', 'robotik', 'rock', 'roger', 'roket', 'rol', 'rolü', 'rom', 'roman', 'romanya', 'romatizmal', 'romney', 'ru', 'ruh', 'rum', 'rumen', 'rusya', 'rutte', 'rıza', 'saat', 'saati', 'saatlerinde', 'saatlik', 'saatte', 'sabah', 'sabancı', 'sabit', 'sadece', 'safra', 'saha', 'sahada', 'sahasında', 'sahaya', 'sahibi', 'sahip', 'sahipleri', 'sahiplerine', 'sahiplerini', 'sahipliği', 'sahne', 'sahnede', 'sahnesi', 'sahnesinde', 'sahneye', 'sahte', 'sakarya', 'sakat', 'sakatlık', 'sakatlığı', 'sakine', 'saldırı', 'saldırıda', 'saldırıları', 'saldırıların', 'saldırının', 'saldırısı', 'saldırıya', 'salon', 'salonda', 'salonu', 'salonunda', 'salı', 'saman', 'samet', 'samimi', 'samsun', 'samsung', 'san', 'sanal', 'sanat', 'sanatlar', 'sanatçı', 'sanatçıların', 'sanatçının', 'sanatçısı', 'sanayi', 'sandalye', 'sandy', 'saniye', 'sanık', 'sanıkların', 'saray', 'sarayı', 'sarf', 'sarkozy', 'sarı', 'sarıgül', 'satan', 'satılan', 'satıldı', 'satılıyor', 'satın', 'satış', 'satışa', 'satışları', 'satışı', 'savaş', 'savaşa', 'savaşı', 'savaşın', 'savcı', 'savunan', 'savundu', 'savunma', 'say', 'sayede', 'sayesinde', 'sayfa', 'saygı', 'sayı', 'sayıda', 'sayıları', 'sayılı', 'sayın', 'sayısı', 'sayısında', 'sayısını', 'sayısının', 'saç', 'sağ', 'sağladı', 'sağladığı', 'sağladığını', 'sağlam', 'sağlamak', 'sağlanan', 'sağlandı', 'sağlanması', 'sağlar', 'sağlayacak', 'sağlayan', 'sağlık', 'sağlıklı', 'sağlıyor', 'sağlığı', 'sağlığına', 'sağlığını', 'sebebi', 'sebebiyle', 'sebep', 'sebeple', 'sebze', 'sefer', 'sekiz', 'sekreteri', 'sektör', 'sektörde', 'sektöre', 'sektörü', 'sektörün', 'sektöründe', 'sektörüne', 'sektörünün', 'sel', 'selahattin', 'selçuk', 'semih', 'sen', 'senaryo', 'sendromu', 'sene', 'senin', 'serbest', 'serena', 'sergey', 'sergi', 'sergide', 'serginin', 'sergisi', 'serhat', 'seri', 'serisi', 'serisinin', 'serkan', 'sermaye', 'sert', 'servis', 'servisi', 'sesi', 'sessiz', 'set', 'seti', 'sevgi', 'seviyede', 'seviyesi', 'seviyesinde', 'seviyesine', 'seviyeye', 'sevk', 'seyahat', 'seyhan', 'seyirci', 'sezgin', 'sezon', 'sezonun', 'sezonunda', 'seçenek', 'seçildi', 'seçilen', 'seçim', 'seçimi', 'seçimlerde', 'seçimleri', 'seçkin', 'sgk', 'sharapova', 'si', 'siber', 'sigara', 'sigarayı', 'sigorta', 'siirt', 'silah', 'silahların', 'silahlı', 'silivri', 'sinan', 'sindirim', 'sinema', 'sineması', 'sini', 'sinin', 'sinir', 'sipariş', 'sistem', 'sisteme', 'sistemi', 'sistemin', 'sisteminde', 'sistemine', 'sistemini', 'sisteminin', 'sistemle', 'sistemleri', 'site', 'siteleri', 'sitelerinde', 'sitenin', 'sitesi', 'sitesinde', 'sitesinden', 'sitesine', 'siva', 'sivasspor', 'sivil', 'siyah', 'siyasal', 'siyaset', 'siyasi', 'size', 'sizi', 'sizin', 'skor', 'skorla', 'skoru', 'skype', 'sm', 'smart', 'sohbet', 'sokak', 'sol', 'solunum', 'somali', 'somut', 'son', 'sona', 'sonra', 'sonraki', 'sonrası', 'sonrasında', 'sonu', 'sonucu', 'sonucunda', 'sonuna', 'sonunda', 'sonuç', 'sonuçlar', 'sonuçları', 'sonuçlarını', 'sonuçta', 'sony', 'sordu', 'soru', 'sorular', 'soruları', 'sorularını', 'sorulması', 'sorumlu', 'sorumluluk', 'sorumlusu', 'sorun', 'sorunlar', 'sorunlara', 'sorunları', 'sorunların', 'sorunlarına', 'sorunlarını', 'sorunu', 'sorunun', 'sorununu', 'sorununun', 'sorusu', 'sorusuna', 'sorusunu', 'soruya', 'soruyu', 'soruşturma', 'soruşturması', 'sosyal', 'soylu', 'soğuk', 'spk', 'spor', 'spora', 'sporcu', 'sportif', 'sporun', 'stadı', 'standart', 'star', 'stone', 'store', 'strateji', 'stratejik', 'stres', 'style', 'su', 'suat', 'sudan', 'sultan', 'sunan', 'sundu', 'sunduğu', 'sunulacak', 'sunulan', 'sunuldu', 'sunuyor', 'suretiyle', 'suriye', 'suriyeli', 'suudi', 'suyu', 'suç', 'suçlu', 'suçundan', 'söyledi', 'söylediği', 'söylemek', 'söylemişti', 'söylerken', 'söyleyen', 'söyleyerek', 'söylüyor', 'söylüyorum', 'söz', 'sözcüsü', 'sözleri', 'sözlerine', 'sözlerini', 'sözleriyle', 'sözleşme', 'sözleşmesi', 'sözü', 'süleyman', 'süper', 'sürdü', 'sürdürdü', 'sürdüren', 'sürdürülebilir', 'sürdürüyor', 'süre', 'sürece', 'sürecek', 'süreci', 'sürecin', 'sürecinde', 'sürecine', 'sürecini', 'sürecinin', 'sürede', 'süredir', 'sürekli', 'süreli', 'süren', 'süresi', 'süresince', 'süresinin', 'süreç', 'süreçte', 'sürpriz', 'sürprizi', 'sürüldü', 'sürülen', 'sürüyor', 'süt', 'sütü', 'sı', 'sıcak', 'sıfır', 'sık', 'sıklıkla', 'sıklığı', 'sıkı', 'sıkıntı', 'sıkıntısı', 'sınav', 'sınıf', 'sınır', 'sınırları', 'sınırlı', 'sınırı', 'sınırına', 'sıra', 'sırada', 'sıradan', 'sırasında', 'sıraya', 'sırayı', 'sırt', 'sıvı', 'ta', 'tabanlı', 'tabi', 'tabii', 'tablet', 'tablo', 'tablosu', 'taburcu', 'tahmin', 'takdim', 'takdir', 'takdirde', 'taki', 'takip', 'taksim', 'takım', 'takıma', 'takımda', 'takımdan', 'takımlarından', 'takımı', 'takımın', 'takımının', 'talabani', 'talebi', 'talep', 'talepleri', 'taliban', 'talimat', 'tam', 'tamamen', 'tamamladı', 'tamamlandı', 'tamamlayan', 'tamamı', 'tamamını', 'tamamının', 'tan', 'tane', 'taner', 'tanesi', 'tanrıkulu', 'tansiyon', 'tanı', 'tanık', 'tanıklık', 'tanımlanan', 'tanınan', 'tanıttı', 'tanıtım', 'taraf', 'taraftan', 'taraftar', 'taraftarlar', 'taraftarları', 'tarafı', 'tarafında', 'tarafından', 'tarama', 'tarhan', 'tarih', 'tarihe', 'tarihi', 'tarihin', 'tarihinde', 'tarihinden', 'tarihine', 'tarihinin', 'tarihleri', 'tarihlerinde', 'tarihli', 'tarihte', 'tarihten', 'tartışma', 'tarz', 'tarım', 'tasarruf', 'tasarı', 'tasarım', 'tasarımı', 'tasarısı', 'tatil', 'tatlı', 'tavsiye', 'tavır', 'tayfun', 'tayland', 'tayyip', 'taze', 'tazminat', 'taş', 'taşeron', 'taşı', 'taşıdı', 'taşıdığını', 'taşıma', 'taşıyan', 'taşıyor', 'tbmm', 'te', 'tebrik', 'tecrübe', 'tecrübeli', 'tedavi', 'tedavide', 'tedavinin', 'tedavisi', 'tedavisinde', 'tedaviye', 'tehdit', 'tehlike', 'tehlikeli', 'tek', 'teki', 'tekin', 'teklif', 'teklifi', 'teknik', 'teknoloji', 'teknolojik', 'teknolojileri', 'teknolojinin', 'teknolojisi', 'tekrar', 'tekstil', 'tel', 'telefon', 'telefonla', 'telefonları', 'telefonu', 'telekom', 'telekomünikasyon', 'televizyon', 'televizyonu', 'temas', 'temel', 'temelinde', 'temin', 'temiz', 'temmuz', 'temsil', 'temsilcileri', 'temsilcisi', 'ten', 'tenis', 'tepki', 'tercih', 'terim', 'terk', 'tersine', 'terör', 'terörist', 'terörle', 'terörü', 'terörün', 'tesis', 'tesisleri', 'teslim', 'tespit', 'tespiti', 'test', 'testi', 'teşekkür', 'teşhis', 'teşkil', 'teşkilatı', 'teşvik', 'tff', 'thy', 'ticaret', 'ticari', 'tim', 'time', 'tip', 'tipi', 'tiyatro', 'tiyatrosu', 'tl', 'tobb', 'toki', 'tolga', 'ton', 'top', 'topbaş', 'toplam', 'toplamda', 'toplanan', 'toplantı', 'toplantıda', 'toplantının', 'toplantısı', 'toplantısına', 'toplantısında', 'toplantıya', 'toplayan', 'toplu', 'topluluğu', 'toplum', 'topluma', 'toplumda', 'toplumsal', 'toplumu', 'toplumun', 'toprak', 'topu', 'total', 'toto', 'tpao', 'tr', 'trabzon', 'trabzonspor', 'trafik', 'trafiğe', 'transfer', 'transferi', 'trilyon', 'trt', 'tsi', 'tsk', 'tsunami', 'ttnet', 'tugayları', 'tuhaf', 'tuncay', 'tunceli', 'tur', 'tural', 'turan', 'turgut', 'turist', 'turizm', 'turkcell', 'turnuvası', 'turu', 'tutan', 'tutarı', 'tuttu', 'tutuklu', 'tutulması', 'tutum', 'tutuyor', 'tv', 'törende', 'töreni', 'töreninde', 'törenine', 'törenle', 'tübitak', 'tüik', 'tüketici', 'tüketim', 'tüketimi', 'tüketiminin', 'tümör', 'tüp', 'tür', 'türk', 'türkiye', 'türkler', 'türkçe', 'türlü', 'türü', 'tütün', 'tıbbi', 'tıp', 'tır', 'tırnak', 'uaresma', 'ucuz', 'uefa', 'ufak', 'ukrayna', 'ulaşan', 'ulaşmak', 'ulaşması', 'ulaştı', 'ulaştırma', 'ulaştığı', 'ulaştığını', 'ulaşım', 'uludere', 'ulusal', 'uluslararası', 'umarım', 'umut', 'un', 'uncu', 'united', 'usb', 'usta', 'usul', 'uyardı', 'uyarı', 'uyarınca', 'uyarısı', 'uyarısında', 'uydu', 'uydusu', 'uyguladığı', 'uygulama', 'uygulamalar', 'uygulamaları', 'uygulamaların', 'uygulamanın', 'uygulaması', 'uygulamasını', 'uygulamasının', 'uygulamaya', 'uygulamayı', 'uygulanacak', 'uygulanan', 'uygulanması', 'uygun', 'uyku', 'uyum', 'uyumlu', 'uyuşturucu', 'uzak', 'uzaktan', 'uzanan', 'uzay', 'uzaya', 'uzlaşma', 'uzm', 'uzman', 'uzmanlar', 'uzmanları', 'uzmanı', 'uzun', 'uçak', 'uçağı', 'uçağın', 'uğur', 'uşak', 'vadede', 'vadeli', 'vaka', 'vakfı', 'vakit', 'vali', 'valisi', 'van', 'var', 'vardı', 'vardır', 'varsa', 'vatan', 'vatandaş', 'vatandaşa', 'vatandaşlar', 'vatandaşlara', 'vatandaşları', 'vatandaşlarımızın', 'vatandaşların', 'vatandaşlık', 'vatandaşı', 'vatandaşın', 'veda', 'vefat', 'vekili', 'verdi', 'verdik', 'verdikleri', 'verdiklerini', 'verdiği', 'verdiğimiz', 'verdiğini', 'verecek', 'vereceği', 'vereceğini', 'veren', 'vererek', 'vergi', 'vergisi', 'veri', 'verici', 'verildi', 'verildiği', 'verildiğini', 'verilecek', 'verilen', 'veriler', 'verilere', 'verileri', 'verilerin', 'verilerine', 'veriliyor', 'verilmesi', 'verimli', 'verin', 'verir', 'verirken', 'veriyor', 'veriyoruz', 'verme', 'vermeden', 'vermedi', 'vermek', 'vermesi', 'vermeye', 'vermiş', 'vermişti', 'vettel', 'video', 'virüs', 'vitamin', 'vitamini', 'vize', 'vizyona', 'vladimir', 'vodafone', 'voleybol', 'volkan', 'vural', 'vuran', 'vurdu', 'vurgu', 'vurguladı', 'vurgulandı', 'vurgulayan', 'vurgulayarak', 'vücuda', 'vücudun', 'vücut', 'vücutta', 'yabancı', 'yada', 'yahudi', 'yakalanan', 'yakalanma', 'yaklaşık', 'yaklaşım', 'yakın', 'yakında', 'yakından', 'yakınları', 'yakıt', 'yalan', 'yalnız', 'yalnızca', 'yalova', 'yalçın', 'yan', 'yana', 'yandan', 'yande', 'yanlış', 'yanı', 'yanına', 'yanında', 'yanıt', 'yanıtladı', 'yanıtlayan', 'yanıtı', 'yanıtını', 'yapabilecek', 'yapacak', 'yapacakları', 'yapacağı', 'yapacağını', 'yapacağız', 'yapan', 'yapanlar', 'yapanların', 'yapar', 'yaparak', 'yaparken', 'yapma', 'yapmak', 'yapması', 'yapmaya', 'yapmayı', 'yapmış', 'yapmıştı', 'yaptı', 'yaptık', 'yaptıkları', 'yaptıklarını', 'yaptım', 'yaptığı', 'yaptığım', 'yaptığımız', 'yaptığını', 'yapı', 'yapılabilir', 'yapılacak', 'yapılacağı', 'yapılacağını', 'yapılan', 'yapıldı', 'yapıldığı', 'yapıldığını', 'yapılmalı', 'yapılması', 'yapılmasına', 'yapılmasını', 'yapılmasının', 'yapılmış', 'yapılır', 'yapılıyor', 'yapım', 'yapımı', 'yapın', 'yapıp', 'yapısı', 'yapısının', 'yapıyor', 'yapıyoruz', 'yara', 'yaralandı', 'yaralı', 'yararlı', 'yaratan', 'yarattığı', 'yaratıcı', 'yardım', 'yardımcı', 'yardımcısı', 'yardımı', 'yardımıyla', 'yargı', 'yargıtay', 'yarı', 'yarım', 'yarın', 'yarısı', 'yarış', 'yarışması', 'yarışmaya', 'yarışı', 'yasa', 'yasak', 'yasal', 'yasama', 'yasanın', 'yasası', 'yasağı', 'yatak', 'yatan', 'yatırım', 'yatırımlar', 'yatırımları', 'yatırımı', 'yavaş', 'yavuz', 'yaygın', 'yayımlanan', 'yayımlandı', 'yayın', 'yayınladı', 'yayınladığı', 'yayınlanan', 'yayınlandı', 'yayınları', 'yaz', 'yazan', 'yazar', 'yazarı', 'yazdı', 'yazdığı', 'yazı', 'yazıcı', 'yazık', 'yazılan', 'yazılı', 'yazılım', 'yazılımı', 'yağ', 'yağlı', 'yağmur', 'yağı', 'yaş', 'yaşadı', 'yaşadıkları', 'yaşadıklarını', 'yaşadığı', 'yaşadığını', 'yaşam', 'yaşama', 'yaşamak', 'yaşamı', 'yaşamını', 'yaşanan', 'yaşandı', 'yaşandığı', 'yaşandığını', 'yaşanıyor', 'yaşar', 'yaşayan', 'yaşlarda', 'yaşlı', 'yaşta', 'yaşı', 'yaşın', 'yaşına', 'yaşında', 'yaşındaki', 'yaşından', 'yaşıyor', 'ye', 'yedi', 'yelken', 'yem', 'yeme', 'yemek', 'yemeği', 'yenen', 'yenerek', 'yeni', 'yeniden', 'yepyeni', 'yer', 'yerde', 'yerden', 'yere', 'yerel', 'yeri', 'yerinde', 'yerine', 'yerini', 'yerler', 'yerlerde', 'yerlere', 'yerleşim', 'yerli', 'yetenekli', 'yeterince', 'yeterli', 'yetersiz', 'yetki', 'yetkili', 'yetkililer', 'yetkilileri', 'yetmezliği', 'yeşil', 'yi', 'yine', 'yiyecek', 'yla', 'yle', 'yok', 'yoksa', 'yoksulluk', 'yoktu', 'yoktur', 'yol', 'yola', 'yolcu', 'yolculuk', 'yolda', 'yolla', 'yolları', 'yollarını', 'yolsuzluk', 'yolu', 'yoluna', 'yolunda', 'yolunu', 'yoluyla', 'yorgun', 'york', 'yorum', 'yorumu', 'youtube', 'yoğun', 'yoğurt', 'yrd', 'yu', 'yumurta', 'yumuşak', 'yunan', 'yunanistan', 'yunus', 'yurt', 'yurtdışı', 'yurtdışında', 'yön', 'yönde', 'yönelik', 'yönetecek', 'yöneten', 'yönetici', 'yöneticileri', 'yöneticisi', 'yönetim', 'yönetimi', 'yönetiminde', 'yönetimine', 'yönetiminin', 'yönetmelik', 'yönetmen', 'yönetmeni', 'yönetmenliğini', 'yönettiği', 'yönlü', 'yöntem', 'yöntemi', 'yöntemiyle', 'yöntemle', 'yöntemler', 'yöntemleri', 'yöntemlerle', 'yönünde', 'yönündeki', 'yücel', 'yük', 'yüklü', 'yüksek', 'yüksekliği', 'yüksel', 'yükseldi', 'yükselen', 'yürürlüğe', 'yürüten', 'yürüttüğü', 'yürütülen', 'yürüyüş', 'yüz', 'yüzde', 'yüzden', 'yüzlerce', 'yüzme', 'yüzyıl', 'yüzü', 'yüzünden', 'yüzünü', 'yı', 'yıl', 'yıla', 'yılbaşı', 'yılda', 'yıldan', 'yıldır', 'yıldırım', 'yıldız', 'yıldızı', 'yılki', 'yıllar', 'yıllarca', 'yıllarda', 'yıllardan', 'yıllardır', 'yılları', 'yılların', 'yıllarında', 'yıllık', 'yılmaz', 'yılı', 'yılın', 'yılına', 'yılında', 'yılındaki', 'yılından', 'yılını', 'yılının', 'zafer', 'zam', 'zaman', 'zamana', 'zamanda', 'zamandır', 'zamanla', 'zamanlar', 'zamanlarda', 'zamanlı', 'zamanı', 'zamanında', 'zarar', 'zararlı', 'zaten', 'zayıf', 'zeki', 'zemin', 'zengin', 'zeynep', 'zihinsel', 'zira', 'ziraat', 'zirve', 'zirvede', 'zirvesi', 'ziyaret', 'ziyareti', 'ziyaretçi', 'zonguldak', 'zor', 'zorlu', 'zorunda', 'zorundayız', 'zorunlu', 'zım', 'çaba', 'çabuk', 'çakır', 'çalışan', 'çalışanlar', 'çalışanları', 'çalışanların', 'çalışma', 'çalışmak', 'çalışmalar', 'çalışmalara', 'çalışmalarda', 'çalışmaları', 'çalışmaların', 'çalışmalarına', 'çalışmalarında', 'çalışmalarını', 'çalışmalarının', 'çalışmalarıyla', 'çalışmanın', 'çalışması', 'çalışmaya', 'çalıştı', 'çalıştıklarını', 'çalıştığı', 'çalıştığını', 'çalışıyor', 'çalışıyoruz', 'çanakkale', 'çankaya', 'çapında', 'çarpıcı', 'çarşamba', 'çatışma', 'çatışmalar', 'çay', 'çağdaş', 'çağlayan', 'çağrı', 'çağrısı', 'çağrısında', 'çağıl', 'çek', 'çeken', 'çekerek', 'çekici', 'çekildi', 'çekilen', 'çekiyor', 'çekmek', 'çekti', 'çektiği', 'çektiğini', 'çelik', 'çerçevede', 'çerçevesinde', 'çetin', 'çevik', 'çevre', 'çevresel', 'çevresinde', 'çeyrek', 'çeyrekte', 'çeyreğinde', 'çeşit', 'çeşitli', 'çift', 'çin', 'çinli', 'çizdi', 'çizen', 'çizgi', 'çiçek', 'çkp', 'çocuk', 'çocuklar', 'çocuklara', 'çocuklarda', 'çocukları', 'çocukların', 'çocuklarının', 'çocukluk', 'çocuğu', 'çocuğun', 'çoğu', 'çoğunlukla', 'çoğunluğu', 'çukurova', 'çölyak', 'çözmek', 'çözüm', 'çözüme', 'çözümü', 'çıkacak', 'çıkan', 'çıkar', 'çıkarak', 'çıkaran', 'çıkardı', 'çıkardığı', 'çıkarken', 'çıkarmak', 'çıkarılan', 'çıkarıldı', 'çıkarılması', 'çıkmak', 'çıkması', 'çıkmış', 'çıktı', 'çıktığı', 'çıktığını', 'çıkıp', 'çıkıyor', 'çıkış', 'çınar', 'öcalan', 'ödeme', 'ödül', 'ödüle', 'ödülleri', 'ödüllü', 'ödülü', 'ödülünü', 'öksürük', 'öldü', 'öldürülen', 'öldüğü', 'öldüğünü', 'ölen', 'ölçüde', 'ölçüm', 'ölü', 'ölüm', 'ölümcül', 'ölüme', 'ölümü', 'ölümüne', 'ölümüyle', 'ömer', 'ömrü', 'ömür', 'ön', 'önce', 'önceden', 'önceki', 'öncelikle', 'öncelikli', 'öncesi', 'öncesinde', 'öncesine', 'öncü', 'önde', 'önder', 'öne', 'önem', 'öneme', 'önemi', 'önemine', 'önemini', 'önemli', 'önemlidir', 'önemlisi', 'önergesi', 'önlem', 'önlemek', 'önlemler', 'önlemleri', 'önlenmesi', 'önümüzdeki', 'önünde', 'önüne', 'örgüt', 'örgütü', 'örgütün', 'örgütünün', 'örnek', 'örneği', 'örneğin', 'öte', 'ötürü', 'öyle', 'öz', 'özal', 'özbek', 'özcan', 'özdemir', 'özel', 'özelleştirme', 'özellikle', 'özellikleri', 'özelliği', 'özelliğini', 'özen', 'özgü', 'özgün', 'özgür', 'özgürlük', 'özgürlüğü', 'özkan', 'özlem', 'özpetek', 'öztürk', 'özür', 'öğle', 'öğrenci', 'öğrenciler', 'öğrencilere', 'öğrencileri', 'öğrencilerin', 'öğrencilerinden', 'öğrencisi', 'öğrenildi', 'öğretim', 'öğretmen', 'öğün', 'ücret', 'ücreti', 'ücretsiz', 'ülke', 'ülkede', 'ülkedeki', 'ülkeden', 'ülkeler', 'ülkelerde', 'ülkelerden', 'ülkelere', 'ülkeleri', 'ülkelerin', 'ülkelerinde', 'ülkelerinin', 'ülkemiz', 'ülkemizde', 'ülkemize', 'ülkemizin', 'ülkenin', 'ülker', 'ülkesi', 'ülkeye', 'ülkeyi', 'ümit', 'ün', 'ünal', 'üncü', 'üniversite', 'üniversitesi', 'ünlü', 'ünü', 'ünün', 'ürdün', 'üreten', 'üretici', 'üreticisi', 'üretilen', 'üretim', 'üretimi', 'üretiminde', 'ürettiği', 'ürün', 'ürünler', 'ürünleri', 'ürünlerin', 'ürünlerinin', 'ürünü', 'ürünün', 'üssü', 'üst', 'üste', 'üstelik', 'üstlendiği', 'üstü', 'üstün', 'üstünde', 'üstüne', 'üye', 'üyeleri', 'üyelerinin', 'üyesi', 'üzere', 'üzeri', 'üzerinde', 'üzerindeki', 'üzerinden', 'üzerine', 'üzüntü', 'üç', 'üçte', 'üçüncü', 'ın', 'ısı', 'ışık', 'şafak', 'şahin', 'şam', 'şampiyon', 'şampiyonası', 'şampiyonlar', 'şampiyonluk', 'şampiyonu', 'şanlıurfa', 'şans', 'şanslı', 'şansı', 'şansını', 'şarj', 'şarkı', 'şarkıcı', 'şart', 'şartlar', 'şartlarda', 'şartları', 'şebeke', 'şefi', 'şehir', 'şehircilik', 'şehit', 'şehri', 'şehrin', 'şehrinde', 'şeker', 'şekeri', 'şekilde', 'şekli', 'şeklinde', 'şeklindeki', 'şener', 'şenol', 'şerafettin', 'şeridi', 'şeye', 'şeyi', 'şeyin', 'şeyler', 'şeyleri', 'şiddet', 'şiddete', 'şiddeti', 'şiddetin', 'şiddetle', 'şiddetli', 'şiir', 'şikayet', 'şikayeti', 'şikayetler', 'şike', 'şimdi', 'şimdiden', 'şimdilik', 'şimdiye', 'şimşek', 'şirket', 'şirketi', 'şirketin', 'şirketinin', 'şirketler', 'şirketleri', 'şirketlerin', 'şirketlerinin', 'şizofreni', 'şişli', 'şok', 'şubat', 'şube', 'şunlar', 'şunları', 'şunu', 'şöyle', 'şükran', 'şüpheli']\n"
          ]
        }
      ]
    },
    {
      "cell_type": "code",
      "source": [
        "data=pd.DataFrame(count_vectorizer.get_feature_names(),columns=[\"Words\"])"
      ],
      "metadata": {
        "id": "-Oqjc0FPKsW6"
      },
      "execution_count": null,
      "outputs": []
    },
    {
      "cell_type": "code",
      "source": [
        "\n",
        "\n",
        "data.head()\n",
        "\n"
      ],
      "metadata": {
        "colab": {
          "base_uri": "https://localhost:8080/",
          "height": 206
        },
        "id": "i528jeobKygm",
        "outputId": "953285ac-fd72-4add-95af-5c2c10f8d488"
      },
      "execution_count": null,
      "outputs": [
        {
          "output_type": "execute_result",
          "data": {
            "text/plain": [
              "      Words\n",
              "0        aa\n",
              "1        ab\n",
              "2       abd\n",
              "3  abdullah\n",
              "4     abone"
            ],
            "text/html": [
              "\n",
              "  <div id=\"df-a75c6901-5306-4648-baaf-6337a16b4228\">\n",
              "    <div class=\"colab-df-container\">\n",
              "      <div>\n",
              "<style scoped>\n",
              "    .dataframe tbody tr th:only-of-type {\n",
              "        vertical-align: middle;\n",
              "    }\n",
              "\n",
              "    .dataframe tbody tr th {\n",
              "        vertical-align: top;\n",
              "    }\n",
              "\n",
              "    .dataframe thead th {\n",
              "        text-align: right;\n",
              "    }\n",
              "</style>\n",
              "<table border=\"1\" class=\"dataframe\">\n",
              "  <thead>\n",
              "    <tr style=\"text-align: right;\">\n",
              "      <th></th>\n",
              "      <th>Words</th>\n",
              "    </tr>\n",
              "  </thead>\n",
              "  <tbody>\n",
              "    <tr>\n",
              "      <th>0</th>\n",
              "      <td>aa</td>\n",
              "    </tr>\n",
              "    <tr>\n",
              "      <th>1</th>\n",
              "      <td>ab</td>\n",
              "    </tr>\n",
              "    <tr>\n",
              "      <th>2</th>\n",
              "      <td>abd</td>\n",
              "    </tr>\n",
              "    <tr>\n",
              "      <th>3</th>\n",
              "      <td>abdullah</td>\n",
              "    </tr>\n",
              "    <tr>\n",
              "      <th>4</th>\n",
              "      <td>abone</td>\n",
              "    </tr>\n",
              "  </tbody>\n",
              "</table>\n",
              "</div>\n",
              "      <button class=\"colab-df-convert\" onclick=\"convertToInteractive('df-a75c6901-5306-4648-baaf-6337a16b4228')\"\n",
              "              title=\"Convert this dataframe to an interactive table.\"\n",
              "              style=\"display:none;\">\n",
              "        \n",
              "  <svg xmlns=\"http://www.w3.org/2000/svg\" height=\"24px\"viewBox=\"0 0 24 24\"\n",
              "       width=\"24px\">\n",
              "    <path d=\"M0 0h24v24H0V0z\" fill=\"none\"/>\n",
              "    <path d=\"M18.56 5.44l.94 2.06.94-2.06 2.06-.94-2.06-.94-.94-2.06-.94 2.06-2.06.94zm-11 1L8.5 8.5l.94-2.06 2.06-.94-2.06-.94L8.5 2.5l-.94 2.06-2.06.94zm10 10l.94 2.06.94-2.06 2.06-.94-2.06-.94-.94-2.06-.94 2.06-2.06.94z\"/><path d=\"M17.41 7.96l-1.37-1.37c-.4-.4-.92-.59-1.43-.59-.52 0-1.04.2-1.43.59L10.3 9.45l-7.72 7.72c-.78.78-.78 2.05 0 2.83L4 21.41c.39.39.9.59 1.41.59.51 0 1.02-.2 1.41-.59l7.78-7.78 2.81-2.81c.8-.78.8-2.07 0-2.86zM5.41 20L4 18.59l7.72-7.72 1.47 1.35L5.41 20z\"/>\n",
              "  </svg>\n",
              "      </button>\n",
              "      \n",
              "  <style>\n",
              "    .colab-df-container {\n",
              "      display:flex;\n",
              "      flex-wrap:wrap;\n",
              "      gap: 12px;\n",
              "    }\n",
              "\n",
              "    .colab-df-convert {\n",
              "      background-color: #E8F0FE;\n",
              "      border: none;\n",
              "      border-radius: 50%;\n",
              "      cursor: pointer;\n",
              "      display: none;\n",
              "      fill: #1967D2;\n",
              "      height: 32px;\n",
              "      padding: 0 0 0 0;\n",
              "      width: 32px;\n",
              "    }\n",
              "\n",
              "    .colab-df-convert:hover {\n",
              "      background-color: #E2EBFA;\n",
              "      box-shadow: 0px 1px 2px rgba(60, 64, 67, 0.3), 0px 1px 3px 1px rgba(60, 64, 67, 0.15);\n",
              "      fill: #174EA6;\n",
              "    }\n",
              "\n",
              "    [theme=dark] .colab-df-convert {\n",
              "      background-color: #3B4455;\n",
              "      fill: #D2E3FC;\n",
              "    }\n",
              "\n",
              "    [theme=dark] .colab-df-convert:hover {\n",
              "      background-color: #434B5C;\n",
              "      box-shadow: 0px 1px 3px 1px rgba(0, 0, 0, 0.15);\n",
              "      filter: drop-shadow(0px 1px 2px rgba(0, 0, 0, 0.3));\n",
              "      fill: #FFFFFF;\n",
              "    }\n",
              "  </style>\n",
              "\n",
              "      <script>\n",
              "        const buttonEl =\n",
              "          document.querySelector('#df-a75c6901-5306-4648-baaf-6337a16b4228 button.colab-df-convert');\n",
              "        buttonEl.style.display =\n",
              "          google.colab.kernel.accessAllowed ? 'block' : 'none';\n",
              "\n",
              "        async function convertToInteractive(key) {\n",
              "          const element = document.querySelector('#df-a75c6901-5306-4648-baaf-6337a16b4228');\n",
              "          const dataTable =\n",
              "            await google.colab.kernel.invokeFunction('convertToInteractive',\n",
              "                                                     [key], {});\n",
              "          if (!dataTable) return;\n",
              "\n",
              "          const docLinkHtml = 'Like what you see? Visit the ' +\n",
              "            '<a target=\"_blank\" href=https://colab.research.google.com/notebooks/data_table.ipynb>data table notebook</a>'\n",
              "            + ' to learn more about interactive tables.';\n",
              "          element.innerHTML = '';\n",
              "          dataTable['output_type'] = 'display_data';\n",
              "          await google.colab.output.renderOutput(dataTable, element);\n",
              "          const docLink = document.createElement('div');\n",
              "          docLink.innerHTML = docLinkHtml;\n",
              "          element.appendChild(docLink);\n",
              "        }\n",
              "      </script>\n",
              "    </div>\n",
              "  </div>\n",
              "  "
            ]
          },
          "metadata": {},
          "execution_count": 16
        }
      ]
    },
    {
      "cell_type": "markdown",
      "source": [
        "VEKTÖRLER X, LABELLAR Y ŞEKLİNDE AYRILIP MAKİNE ÖĞRENMESİ AŞAMSINA GEÇİŞ YAPILMIŞTIR."
      ],
      "metadata": {
        "id": "Q3PTz4G55mhK"
      }
    },
    {
      "cell_type": "code",
      "source": [
        "X=sparce_matrix\n",
        "y=labels"
      ],
      "metadata": {
        "id": "PMt3KAQZLAfn"
      },
      "execution_count": null,
      "outputs": []
    },
    {
      "cell_type": "code",
      "source": [
        "X_train,X_test,y_train,y_test = train_test_split(X,y,test_size=0.2,random_state=42)\n",
        "print(\"x_train\",X_train.shape)\n",
        "print(\"x_test\",X_test.shape)\n",
        "print(\"y_train\",y_train.shape)\n",
        "print(\"y_test\",y_test.shape)"
      ],
      "metadata": {
        "colab": {
          "base_uri": "https://localhost:8080/"
        },
        "id": "osEksRRa1u40",
        "outputId": "6ce559ab-e6c0-4d4d-f72a-05b27c468b42"
      },
      "execution_count": null,
      "outputs": [
        {
          "output_type": "stream",
          "name": "stdout",
          "text": [
            "x_train (3920, 5000)\n",
            "x_test (980, 5000)\n",
            "y_train (3920,)\n",
            "y_test (980,)\n"
          ]
        }
      ]
    },
    {
      "cell_type": "markdown",
      "source": [
        "**Makine öğrenmesi algoritmalarında Score kıyaslaması**"
      ],
      "metadata": {
        "id": "pQ_y_29q1ElM"
      }
    },
    {
      "cell_type": "markdown",
      "source": [
        "NAIVE BAYES"
      ],
      "metadata": {
        "id": "yZkynp5F1zSc"
      }
    },
    {
      "cell_type": "code",
      "source": [
        "from sklearn.naive_bayes import GaussianNB\n",
        "gnb = GaussianNB()\n",
        "y_pred = gnb.fit(X_train, y_train).predict(X_test)\n",
        "from sklearn.metrics import accuracy_score, confusion_matrix, classification_report\n",
        "from sklearn.metrics import f1_score\n",
        "\n",
        "\n",
        "print(\"Accuracy:\",accuracy_score(y_test, y_pred))\n",
        "print(\"Precision:\",precision_score(y_test, y_pred,average=\"macro\"))\n",
        "print(\"F1-Score:\",f1_score(y_test, y_pred, average=\"macro\"))\n",
        "\n",
        "\n",
        "\n",
        "cm=confusion_matrix(y_test,y_pred)\n",
        "cmd = ConfusionMatrixDisplay(cm, display_labels=[ 'dunya', 'ekonomi','kultur','saglik','siyaset','spor','teknoloji'])\n",
        "cmd.plot()"
      ],
      "metadata": {
        "colab": {
          "base_uri": "https://localhost:8080/",
          "height": 350
        },
        "id": "F47j3j3s1QNc",
        "outputId": "82d984f2-9f0e-4c51-811f-755afc3ba0d5"
      },
      "execution_count": null,
      "outputs": [
        {
          "output_type": "stream",
          "name": "stdout",
          "text": [
            "Accuracy: 0.8244897959183674\n",
            "Precision: 0.8270074159921085\n",
            "F1-Score: 0.8247877582484157\n"
          ]
        },
        {
          "output_type": "execute_result",
          "data": {
            "text/plain": [
              "<sklearn.metrics._plot.confusion_matrix.ConfusionMatrixDisplay at 0x7f81cdafc250>"
            ]
          },
          "metadata": {},
          "execution_count": 19
        },
        {
          "output_type": "display_data",
          "data": {
            "text/plain": [
              "<Figure size 432x288 with 2 Axes>"
            ],
            "image/png": "[encoded data removed]"
          },
          "metadata": {
            "needs_background": "light"
          }
        }
      ]
    },
    {
      "cell_type": "code",
      "source": [
        "from sklearn.model_selection import cross_val_score, KFold\n",
        "k_fold = KFold(n_splits=3, shuffle=True, random_state=0)\n",
        "print(\"Tuned KFold Accuracy:\",np.mean(cross_val_score(gnb, X, y,cv=k_fold, n_jobs=1)))\n",
        "\n"
      ],
      "metadata": {
        "colab": {
          "base_uri": "https://localhost:8080/"
        },
        "id": "8M6q9CB3t6MP",
        "outputId": "04f53bbb-da73-44be-d3f2-d64a53eae878"
      },
      "execution_count": null,
      "outputs": [
        {
          "output_type": "stream",
          "name": "stdout",
          "text": [
            "Tuned KFold Accuracy: 0.7979594166920885\n"
          ]
        }
      ]
    },
    {
      "cell_type": "markdown",
      "source": [
        "Support Vector Machine\n"
      ],
      "metadata": {
        "id": "8kA4kp1y7Bq3"
      }
    },
    {
      "cell_type": "code",
      "source": [
        "from sklearn.svm import SVC\n",
        "svm = SVC(random_state = 1)\n",
        "y_pred=svm.fit(X_train,y_train).predict(X_test)\n",
        "print(\"Accuracy:\",accuracy_score(y_test, y_pred))\n",
        "print(\"Precision:\",precision_score(y_test, y_pred,average=\"macro\"))\n",
        "print(\"F1-Score:\",f1_score(y_test, y_pred, average=\"macro\"))\n",
        "\n",
        "\n",
        "\n",
        "cm=confusion_matrix(y_test,y_pred)\n",
        "cmd = ConfusionMatrixDisplay(cm, display_labels=[ 'dunya', 'ekonomi','kultur','saglik','siyaset','spor','teknoloji'])\n",
        "cmd.plot()"
      ],
      "metadata": {
        "colab": {
          "base_uri": "https://localhost:8080/",
          "height": 354
        },
        "id": "hVs70sr57QM9",
        "outputId": "5f7ce03c-08b4-4696-f40d-da041d5033ab"
      },
      "execution_count": null,
      "outputs": [
        {
          "output_type": "stream",
          "name": "stdout",
          "text": [
            "Accuracy: 0.8724489795918368\n",
            "Precision: 0.8756771245767904\n",
            "F1-Score: 0.8740255890416802\n"
          ]
        },
        {
          "output_type": "execute_result",
          "data": {
            "text/plain": [
              "<sklearn.metrics._plot.confusion_matrix.ConfusionMatrixDisplay at 0x7f81cd9e3290>"
            ]
          },
          "metadata": {},
          "execution_count": 21
        },
        {
          "output_type": "display_data",
          "data": {
            "text/plain": [
              "<Figure size 432x288 with 2 Axes>"
            ],
            "image/png": "[encoded data removed]"
          },
          "metadata": {
            "needs_background": "light"
          }
        }
      ]
    },
    {
      "cell_type": "code",
      "source": [
        "from sklearn.model_selection import cross_val_score, KFold\n",
        "k_fold = KFold(n_splits=3, shuffle=True, random_state=0)\n",
        "print(\"Tuned KFold Accuracy:\",np.mean(cross_val_score(svm, X, y,cv=k_fold, n_jobs=1)))"
      ],
      "metadata": {
        "colab": {
          "base_uri": "https://localhost:8080/"
        },
        "id": "76MMwqe2xR-a",
        "outputId": "ddb343fb-88c5-4578-b302-00f096d827f9"
      },
      "execution_count": null,
      "outputs": [
        {
          "output_type": "stream",
          "name": "stdout",
          "text": [
            "Tuned KFold Accuracy: 0.8451030272958061\n"
          ]
        }
      ]
    },
    {
      "cell_type": "markdown",
      "source": [
        "LOGISTIC REGRESSION"
      ],
      "metadata": {
        "id": "VuMrreut_kbI"
      }
    },
    {
      "cell_type": "code",
      "source": [
        "from sklearn.linear_model import LogisticRegression\n",
        "lr = LogisticRegression(random_state=0).fit(X_train, y_train)\n",
        "y_pred = lr.predict(X_test)\n",
        "print(\"Accuracy:\",accuracy_score(y_test, y_pred))\n",
        "print(\"Precision:\",precision_score(y_test, y_pred,average=\"macro\"))\n",
        "print(\"F1-Score:\",f1_score(y_test, y_pred, average=\"macro\"))\n",
        "\n",
        "\n",
        "\n",
        "cm=confusion_matrix(y_test,y_pred)\n",
        "cmd = ConfusionMatrixDisplay(cm, display_labels=[ 'dunya', 'ekonomi','kultur','saglik','siyaset','spor','teknoloji'])\n",
        "cmd.plot()\n"
      ],
      "metadata": {
        "colab": {
          "base_uri": "https://localhost:8080/",
          "height": 353
        },
        "id": "CFaxn93Q7Mpy",
        "outputId": "462f7cb0-2bdd-4760-8f06-bb6a23b0bed0"
      },
      "execution_count": null,
      "outputs": [
        {
          "output_type": "stream",
          "name": "stdout",
          "text": [
            "Accuracy: 0.8918367346938776\n",
            "Precision: 0.8912726427759653\n",
            "F1-Score: 0.891949566576519\n"
          ]
        },
        {
          "output_type": "execute_result",
          "data": {
            "text/plain": [
              "<sklearn.metrics._plot.confusion_matrix.ConfusionMatrixDisplay at 0x7f81cd21ecd0>"
            ]
          },
          "metadata": {},
          "execution_count": 23
        },
        {
          "output_type": "display_data",
          "data": {
            "text/plain": [
              "<Figure size 432x288 with 2 Axes>"
            ],
            "image/png": "[encoded data removed]"
          },
          "metadata": {
            "needs_background": "light"
          }
        }
      ]
    },
    {
      "cell_type": "code",
      "source": [
        "from sklearn.model_selection import cross_val_score, KFold\n",
        "k_fold = KFold(n_splits=3, shuffle=True, random_state=0)\n",
        "print(\"Tuned KFold Accuracy:\",np.mean(cross_val_score(lr, X, y,cv=k_fold, n_jobs=1)))"
      ],
      "metadata": {
        "colab": {
          "base_uri": "https://localhost:8080/"
        },
        "id": "0dyYgwCwzSa5",
        "outputId": "a830c9d5-996c-4c05-fc1f-0d9de5b7dcac"
      },
      "execution_count": null,
      "outputs": [
        {
          "output_type": "stream",
          "name": "stdout",
          "text": [
            "Tuned KFold Accuracy: 0.8885722937486555\n"
          ]
        }
      ]
    },
    {
      "cell_type": "markdown",
      "source": [
        "K-Nearest Neighbors"
      ],
      "metadata": {
        "id": "Co0p5OqlCOgB"
      }
    },
    {
      "cell_type": "code",
      "source": [
        "from sklearn.neighbors import KNeighborsClassifier\n",
        "knn = KNeighborsClassifier().fit(X_train,y_train)\n",
        "y_pred = knn.predict(X_test)\n",
        "print(\"Accuracy:\",accuracy_score(y_test, y_pred))\n",
        "print(\"Precision:\",precision_score(y_test, y_pred,average=\"macro\"))\n",
        "print(\"F1-Score:\",f1_score(y_test, y_pred, average=\"macro\"))\n",
        "\n",
        "\n",
        "\n",
        "cm=confusion_matrix(y_test,y_pred)\n",
        "cmd = ConfusionMatrixDisplay(cm, display_labels=[ 'dunya', 'ekonomi','kultur','saglik','siyaset','spor','teknoloji'])\n",
        "cmd.plot()\n"
      ],
      "metadata": {
        "colab": {
          "base_uri": "https://localhost:8080/",
          "height": 350
        },
        "id": "BAY4pwLCCUbL",
        "outputId": "b0315b0e-92c8-4438-9139-815b6b6d8bda"
      },
      "execution_count": null,
      "outputs": [
        {
          "output_type": "stream",
          "name": "stdout",
          "text": [
            "Accuracy: 0.4846938775510204\n",
            "Precision: 0.7040438588635024\n",
            "F1-Score: 0.5080692425520011\n"
          ]
        },
        {
          "output_type": "execute_result",
          "data": {
            "text/plain": [
              "<sklearn.metrics._plot.confusion_matrix.ConfusionMatrixDisplay at 0x7f551dd0dfd0>"
            ]
          },
          "metadata": {},
          "execution_count": 35
        },
        {
          "output_type": "display_data",
          "data": {
            "text/plain": [
              "<Figure size 432x288 with 2 Axes>"
            ],
            "image/png": "[encoded data removed]"
          },
          "metadata": {
            "needs_background": "light"
          }
        }
      ]
    },
    {
      "cell_type": "code",
      "source": [
        "from sklearn.model_selection import cross_val_score, KFold\n",
        "k_fold = KFold(n_splits=3, shuffle=True, random_state=0)\n",
        "print(\"Tuned KFold Accuracy:\",np.mean(cross_val_score(knn, X, y,cv=k_fold, n_jobs=1)))"
      ],
      "metadata": {
        "colab": {
          "base_uri": "https://localhost:8080/"
        },
        "id": "FFJGKJnaz3S2",
        "outputId": "b391164e-fbc1-45b3-e079-71bbdf1f6ac5"
      },
      "execution_count": null,
      "outputs": [
        {
          "output_type": "stream",
          "name": "stdout",
          "text": [
            "Tuned KFold Accuracy: 0.48551361742198534\n"
          ]
        }
      ]
    },
    {
      "cell_type": "markdown",
      "source": [
        "DECISION TREE"
      ],
      "metadata": {
        "id": "kVGYWIX1KqX3"
      }
    },
    {
      "cell_type": "code",
      "source": [
        "from sklearn.tree import DecisionTreeClassifier\n",
        "dt = DecisionTreeClassifier()\n",
        "y_pred = dt.fit(X_train,y_train).predict(X_test)\n",
        "\n",
        "print(\"Accuracy:\",accuracy_score(y_test, y_pred))\n",
        "print(\"Precision:\",precision_score(y_test, y_pred,average=\"macro\"))\n",
        "print(\"F1-Score:\",f1_score(y_test, y_pred, average=\"macro\"))\n",
        "\n",
        "\n",
        "\n",
        "cm=confusion_matrix(y_test,y_pred)\n",
        "cmd = ConfusionMatrixDisplay(cm, display_labels=[ 'dunya', 'ekonomi','kultur','saglik','siyaset','spor','teknoloji'])\n",
        "cmd.plot()\n"
      ],
      "metadata": {
        "colab": {
          "base_uri": "https://localhost:8080/",
          "height": 350
        },
        "id": "4CS7J-tWKubF",
        "outputId": "ce6e0107-d8a8-4f0f-f426-25b8105d035f"
      },
      "execution_count": null,
      "outputs": [
        {
          "output_type": "stream",
          "name": "stdout",
          "text": [
            "Accuracy: 0.7142857142857143\n",
            "Precision: 0.7172824557836356\n",
            "F1-Score: 0.7147283413917747\n"
          ]
        },
        {
          "output_type": "execute_result",
          "data": {
            "text/plain": [
              "<sklearn.metrics._plot.confusion_matrix.ConfusionMatrixDisplay at 0x7f551db75d50>"
            ]
          },
          "metadata": {},
          "execution_count": 37
        },
        {
          "output_type": "display_data",
          "data": {
            "text/plain": [
              "<Figure size 432x288 with 2 Axes>"
            ],
            "image/png": "[encoded data removed]"
          },
          "metadata": {
            "needs_background": "light"
          }
        }
      ]
    },
    {
      "cell_type": "code",
      "source": [
        "from sklearn.model_selection import cross_val_score, KFold\n",
        "k_fold = KFold(n_splits=3, shuffle=True, random_state=0)\n",
        "print(\"Tuned KFold Accuracy:\",np.mean(cross_val_score(dt, X, y,cv=k_fold, n_jobs=1)))"
      ],
      "metadata": {
        "colab": {
          "base_uri": "https://localhost:8080/"
        },
        "id": "sYCxj4GJ0fD3",
        "outputId": "68453b96-98e5-4911-ea67-4b0c52bb6e4f"
      },
      "execution_count": null,
      "outputs": [
        {
          "output_type": "stream",
          "name": "stdout",
          "text": [
            "Tuned KFold Accuracy: 0.7073472891702476\n"
          ]
        }
      ]
    },
    {
      "cell_type": "markdown",
      "source": [
        "RANDOM FOREST"
      ],
      "metadata": {
        "id": "BVgQabl1LHpf"
      }
    },
    {
      "cell_type": "code",
      "source": [
        "from sklearn.ensemble import RandomForestClassifier\n",
        "\n",
        "rf_model=RandomForestClassifier(random_state=42)\n",
        "y_pred = rf_model.fit(X_train,y_train).predict(X_test)\n",
        "print(\"Accuracy:\",accuracy_score(y_test, y_pred))\n",
        "print(\"Precision:\",precision_score(y_test, y_pred,average=\"macro\"))\n",
        "print(\"F1-Score:\",f1_score(y_test, y_pred, average=\"macro\"))\n",
        "\n",
        "\n",
        "\n",
        "cm=confusion_matrix(y_test,y_pred)\n",
        "cmd = ConfusionMatrixDisplay(cm, display_labels=[ 'dunya', 'ekonomi','kultur','saglik','siyaset','spor','teknoloji'])\n",
        "cmd.plot()\n",
        "\n"
      ],
      "metadata": {
        "colab": {
          "base_uri": "https://localhost:8080/",
          "height": 350
        },
        "id": "TGfRae2TLRdK",
        "outputId": "8e4094b6-727f-4be2-c5a8-adfa015fc853"
      },
      "execution_count": null,
      "outputs": [
        {
          "output_type": "stream",
          "name": "stdout",
          "text": [
            "Accuracy: 0.8612244897959184\n",
            "Precision: 0.860585351278201\n",
            "F1-Score: 0.860648517425686\n"
          ]
        },
        {
          "output_type": "execute_result",
          "data": {
            "text/plain": [
              "<sklearn.metrics._plot.confusion_matrix.ConfusionMatrixDisplay at 0x7f551b25b650>"
            ]
          },
          "metadata": {},
          "execution_count": 39
        },
        {
          "output_type": "display_data",
          "data": {
            "text/plain": [
              "<Figure size 432x288 with 2 Axes>"
            ],
            "image/png": "[encoded data removed]"
          },
          "metadata": {
            "needs_background": "light"
          }
        }
      ]
    },
    {
      "cell_type": "code",
      "source": [
        "from sklearn.model_selection import cross_val_score, KFold\n",
        "k_fold = KFold(n_splits=3, shuffle=True, random_state=0)\n",
        "print(\"Tuned KFold Accuracy:\",np.mean(cross_val_score(rf_model, X, y,cv=k_fold, n_jobs=1)))"
      ],
      "metadata": {
        "colab": {
          "base_uri": "https://localhost:8080/"
        },
        "id": "yBfD-xZq0i3Z",
        "outputId": "ff657bdb-bc52-42db-8b42-f17c342fb6e1"
      },
      "execution_count": null,
      "outputs": [
        {
          "output_type": "stream",
          "name": "stdout",
          "text": [
            "Tuned KFold Accuracy: 0.8544905749755839\n"
          ]
        }
      ]
    },
    {
      "cell_type": "code",
      "source": [],
      "metadata": {
        "id": "wQDkrAPE8mPa"
      },
      "execution_count": null,
      "outputs": []
    }
  ]
}